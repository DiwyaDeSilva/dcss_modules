{
 "cells": [
  {
   "cell_type": "markdown",
   "metadata": {},
   "source": [
    "<br><br><font color=\"gray\">DOING COMPUTATIONAL SOCIAL SCIENCE<br>MODULE 7 <strong>PROBLEM SETS</strong></font>\n",
    "\n",
    "# <font color=\"#49699E\" size=40>Text Analysis, Part 2</font>\n",
    "This module notebook assignment is organized into two parts. \n"
   ]
  },
  {
   "cell_type": "markdown",
   "metadata": {},
   "source": [
    "# What You Need to Know Before Getting Started\n",
    "\n",
    "- **You can consult any resources you want when completing these exercises and problems**. Just as it is in the \"real world:\" if you can't figure out how to do something, look it up. My recommendation is that you check the relevant parts of the assigned reading or search for inspiration on [https://stackoverflow.com](https://stackoverflow.com).\n",
    "- **Each problem is worth 1 point**. All problems are equally weighted.\n",
    "- **The information you need for each problem set is provided in the blue and green cells.** General instructions / the problem set preamble are in the blue cells, and instructions for specific problems are in the green cells. **You have to execute all of the code in the problem set, but you are only responsible for entering code into the code cells that immediately follow a green cell**. You will also recognize those cells because they will be incomplete. You need to replace each `____` with the code that will make the cell execute properly.\n",
    "- **The comments in the problem cells contain clues indicating what the following line of code is supposed to do.** Use these comments as a guide when filling in the blanks. \n",
    "- **Each problem cell stores one object named according to the problem (e.g. _09)**. These are not important for you, but we use them to help grade your work efficiently, so **do not delete them or change their names**. If you do, you will lose marks.\n",
    "- **You can ask for help**. If you run into problems, you can reach out to John (john.mclevey@uwaterloo.ca) or Pierson (pbrowne@uwaterloo.ca) for help. You can ask a friend for help if you like, regardless of whether they are enrolled in the course.\n",
    "\n",
    "Finally, remember that you do not need to \"master\" this content before moving on to other course materials, as what is introduced here is reinforced throughout the rest of the course. You will have plenty of time to practice and cement your new knowledge and skills."
   ]
  },
  {
   "cell_type": "markdown",
   "metadata": {},
   "source": [
    "# How to Submit Your (Pickled) Assignment! \n",
    "\n",
    "Since we've had to rethink the way we deliver, collect, and evaluate these problem sets, we want to be very clear about what you need to do to properly submit this module notebook assignment. Please read the following explanation of our process so that you understand how this works, and what you need to do.\n",
    "\n",
    "At the very end of this notebook, there is a code cell that will compile all of your answers to every problem in the assignment and save them as a 'pickle' file (`.pkl`) in the current working directory. You can execute that cell as many times as you like. Each time you run it, it will overwrite the old pickle with your updated answers. **Once you've ensured that everything in the notebook is complete and finished to your satisfaction, it's up to you to get the pickle that you just created and upload it to the appropriate Learn dropbox for this module.** The file you are looking for will not exist until you run the cells at the end of the notebook. Once it has been created, it will follow this naming convention: \n",
    "\n",
    "> `module_[number]__student_[your_student_number].pkl`\n",
    "\n",
    "To be very clear, **you need to submit the pickle to Learn**. You do not need to upload the Jupyter Notebook as initially planned. **Just the pickle!**"
   ]
  },
  {
   "cell_type": "markdown",
   "metadata": {},
   "source": [
    "## Make Sure Everything is Good to Go\n",
    "\n",
    "It's generally a good idea to do a 'fresh' run of your entire notebook before you submit your assignment to make sure that everything is working as it should be. You can use the button with the 'Fast-Forward' arrows in the Jupyter toolbar above to restart the kernel (resetting everything to initial conditions) and running every code cell in the notebook, in order. You can also select 'Restart and Run All' from the Kernel dropdown menu. If the entire notebook runs without throwing any errors, you should be good to go!\n",
    "\n",
    "If you're running into issues, make sure that you haven't changed any of the 'answer' variable names we provided you with (e.g., we asked you to store your answer to the first question in a variable called `_01`). If you change an answer's variable name or don't store your answer in that variable, the project won't finalize properly and you won't get proper credit for your work. The same goes for the `student_id` metadata variable we ask you to complete immediately below; if any of those are missing, haven't been filled in properly, or have been renamed, issues may arise during the grading process and you will not receive proper credit. So make sure you enter your student information, and don't delete or change the names of the variables that store your answers to each problem!"
   ]
  },
  {
   "cell_type": "markdown",
   "metadata": {},
   "source": [
    "## IMPORTANT: ADD YOUR STUDENT ID NUMBER\n",
    "\n",
    "<div class=\"alert alert-block alert-danger\">\n",
    "To evaluate your work, we need you to provide your student number. In the cell below, <strong>replace '12345678' with your student number</strong>. The student_id' variable needs to be an integer, so <strong>do not wrap it in quotes.</strong>\n",
    "</div>"
   ]
  },
  {
   "cell_type": "code",
   "execution_count": 34,
   "metadata": {},
   "outputs": [],
   "source": [
    "# Your UWaterloo student ID number\n",
    "student_id = 20674880"
   ]
  },
  {
   "cell_type": "markdown",
   "metadata": {},
   "source": [
    "## Package Imports"
   ]
  },
  {
   "cell_type": "code",
   "execution_count": 35,
   "metadata": {},
   "outputs": [],
   "source": [
    "import pickle\n",
    "import os\n",
    "\n",
    "import pandas as pd\n",
    "import numpy as np\n",
    "import seaborn as sns\n",
    "import matplotlib.pyplot as plt\n",
    "\n",
    "from sklearn.feature_extraction.text import CountVectorizer, TfidfVectorizer\n",
    "from sklearn.decomposition import TruncatedSVD\n",
    "from sklearn.preprocessing import Normalizer"
   ]
  },
  {
   "cell_type": "markdown",
   "metadata": {},
   "source": [
    "## Question 1:\n",
    "<div class=\"alert alert-block alert-info\">  \n",
    "For these exercises, you are provided a dataframe containing a sample of speeches from the Canadian Hansard data. The speech text is already pre-processed, with bigrams detected and all but nouns, proper nouns, and adjectives filtered out. Using the text from the 'preprocessed' column of the dataframe, you will create a matrix of count vectors, where each row is a speech and the columns are word counts for each item in the vocabulary. You'll then create a dataframe from this matrix, adding a column with the party of the person who made the speech.\n",
    "</div>\n",
    "<div class=\"alert alert-block alert-success\">\n",
    "Begin by reading the CSV into pandas and extracting the pre-processed speeches as a list. Provide this list of speeches to sklearn's CountVectorizer, turning the results into a new dataframe and naming the columns for the terms they contain counts of. \n",
    "</div>"
   ]
  },
  {
   "cell_type": "code",
   "execution_count": 36,
   "metadata": {},
   "outputs": [],
   "source": [
    "#_01\n",
    "\n",
    "df = pd.read_csv('/Users/Diwya/workspace/INTEG440/dcss_modules/MODULE07/data/processed_can_hansards.csv')   # read pre-processed dataset\n",
    "speeches = df['preprocessed'].tolist() # make a list of speeches (you might have to look inside the dataframe)\n",
    "\n",
    "count_vectorizer = CountVectorizer(max_df=.1,          # initialize the counter vectorizer\n",
    "                           min_df=3,\n",
    "                           strip_accents='ascii',\n",
    "                           )\n",
    "\n",
    "count_matrix = count_vectorizer.fit_transform(speeches)   # apply the vectorizer to the list of speeches\n",
    "vocabulary = count_vectorizer.get_feature_names()        # gather a list of the feature names (terms)\n",
    "\n",
    "count_df = pd.DataFrame.sparse.from_spmatrix(count_matrix)    # use pandas sparse matrix functionality to make a dataframe\n",
    "count_df.columns = vocabulary                            # name the columns according to what they're counting\n",
    "\n",
    "count_df['speakerparty'] = df['speakerparty']     # add the party names from the original dataframe to the new one\n",
    "\n",
    "# Store the result in the assignment variable\n",
    "_01 = count_df.head().to_numpy() # do not change this line"
   ]
  },
  {
   "cell_type": "markdown",
   "metadata": {},
   "source": [
    "## Question 2:\n",
    "<div class=\"alert alert-block alert-info\">  \n",
    "Combining the count vectors for each of the 3 largest political parties in Canada (Liberal, Conservative, NDP) you will produce a 3 row dataframe where the rows are the composition of each party's speeches in the data. Convert the raw counts to proportions of the party's total words, to more easily compare the party's term vectors to each other.\n",
    "</div>\n",
    "<div class=\"alert alert-block alert-success\">\n",
    "Use pandas' groupby to create party groups in the dataframe, with their word counts added together as the aggregation function. Transform the dataframe of counts into a dataframe of proportions (ie. term count / total words). Add the terms with the largest percentages for each party to a dictionary and print the items in the dictionary. Submit the dictionary.\n",
    "</div>"
   ]
  },
  {
   "cell_type": "code",
   "execution_count": 37,
   "metadata": {},
   "outputs": [
    {
     "output_type": "stream",
     "name": "stdout",
     "text": [
      "CONSERVATIVE\n('tax', 0.009188787388617217)\n('business', 0.004946190311451038)\n('legislation', 0.00469373825396677)\n('budget', 0.004408560929771578)\n('carbon', 0.004006507653037372)\n('money', 0.0038849566623967986)\n('act', 0.0032725266710923696)\n('parliament', 0.003270189152041589)\n('plan', 0.003153313199502576)\n('number', 0.0031229254518424323)\n\n\nLIBERAL\n('legislation', 0.005394373918555447)\n('system', 0.005060303918041493)\n('economy', 0.004835449110003255)\n('national', 0.004687687379006699)\n('child', 0.004625584622500899)\n('budget', 0.00458489660961779)\n('investment', 0.004411437186274006)\n('act', 0.004357900327217282)\n('service', 0.004195148275684843)\n('tax', 0.0040345376985146736)\n\n\nNDP\n('woman', 0.004659962415561989)\n('legislation', 0.004537220444579884)\n('tax', 0.0044187109553557825)\n('system', 0.004397548546565764)\n('service', 0.003986997816039413)\n('worker', 0.003974300370765402)\n('problem', 0.003965835407249395)\n('federal', 0.003851558399783297)\n('action', 0.0037584438011072172)\n('parliament', 0.003652631757157127)\n\n\n"
     ]
    }
   ],
   "source": [
    "#_02\n",
    "\n",
    "# group the speech vectors by party, adding the counts together\n",
    "party_counts = count_df.groupby('speakerparty').agg('sum')      \n",
    "\n",
    "# transform the count dataframe to proportions by dividing the values by the total words\n",
    "party_percents = party_counts.div(party_counts.sum(axis=1), axis=0)   \n",
    "party_percents = party_percents.T # transform the dataframe so that each party is a column and each term a row\n",
    "\n",
    "top_words_per_party = {}\n",
    "\n",
    "# loop through each party in the data, adding their top (term,score) tuples to their dictionary entry\n",
    "for party in party_percents.columns:             \n",
    "    top = party_percents[party].nlargest(10)\n",
    "    top_words_per_party[party] = list(zip(top.index, top))\n",
    "\n",
    "# print the keys (party name) and associated values (top terms) in the dictionary\n",
    "for k, v in top_words_per_party.items():\n",
    "    print(k.upper())\n",
    "    for each in v:\n",
    "        print(each)\n",
    "    print('\\n')\n",
    "\n",
    "# Store the result in the assignment variable\n",
    "_02 = top_words_per_party # do not change this line"
   ]
  },
  {
   "cell_type": "markdown",
   "metadata": {},
   "source": [
    "## Question 3:\n",
    "<div class=\"alert alert-block alert-info\">  \n",
    "For this problem, you will find the words that most differentiate each party from each of the other two parties, in terms of proportion of total words.\n",
    "</div>\n",
    "<div class=\"alert alert-block alert-success\">\n",
    "By subtracting the party term proportion vectors from each other, gather the terms that are most associated with each side of the comparison. At this point, these vectors should be the columns of the dataframe. Because higher positive values are more associated with one party in the comparison and negative values with the other party, this only requires three comparisons to look at both ends of the party combinations. \n",
    "</div>"
   ]
  },
  {
   "cell_type": "code",
   "execution_count": 38,
   "metadata": {},
   "outputs": [
    {
     "output_type": "stream",
     "name": "stdout",
     "text": [
      "economy       0.002666\ninvestment    0.002581\nindigenous    0.002152\nsystem        0.002096\nhousing       0.002051\nfinance      -0.001762\nmarijuana    -0.001782\nmoney        -0.001943\ncarbon       -0.002486\ntax          -0.005154\ndtype: Sparse[float64, nan]\nwoman       0.002776\nworker      0.002766\nhousing     0.002636\nndp         0.002019\nfederal     0.001795\n              ...   \ndeficit    -0.001557\ntaxis      -0.001905\nbusiness   -0.002462\ncarbon     -0.003168\ntax        -0.004770\nLength: 10987, dtype: Sparse[float64, nan]\neconomy       0.003231\ninvestment    0.002710\ngrowth        0.002171\nbenefit       0.001820\nproud         0.001642\n                ...   \nmoney        -0.001651\nndp          -0.001681\nworker       -0.001978\npromise      -0.002417\nproblem      -0.002683\nLength: 10987, dtype: Sparse[float64, nan]\n"
     ]
    }
   ],
   "source": [
    "#_03\n",
    "\n",
    "# term vector calculations and sorting\n",
    "lib_to_con = party_percents['Liberal'] - party_percents['Conservative']  \n",
    "lib_to_con.sort_values(ascending=False, inplace=True)\n",
    "ndp_to_con = party_percents['NDP'] - party_percents['Conservative']\n",
    "ndp_to_con.sort_values(ascending=False, inplace=True)\n",
    "lib_to_ndp = party_percents['Liberal'] - party_percents['NDP']\n",
    "lib_to_ndp.sort_values(ascending=False, inplace=True)\n",
    "\n",
    "# concatenate the top and bottom values of the comparison dataframes into new ones\n",
    "l_to_c = pd.concat([lib_to_con.head(), lib_to_con.tail()])\n",
    "n_to_c = pd.concat([ndp_to_con.head(), ndp_to_con.tail()])\n",
    "l_to_n = pd.concat([lib_to_ndp.head(), lib_to_ndp.tail()])\n",
    "\n",
    "print(l_to_c)\n",
    "print(ndp_to_con)\n",
    "print(lib_to_ndp)\n",
    "# Store the result in the assignment variable\n",
    "_03 = l_to_c.to_numpy() # do not change this line"
   ]
  },
  {
   "source": [
    "## Question 4:\n",
    "<div class=\"alert alert-block alert-success\">\n",
    "Create a swarm plot to examine the results of the comparison between the Liberals and Conservatives. The x-axis should be the term proportions and the y-axis should be the terms themselves. Use your swarm plot to determine the word that is the most negative (Conservative) on the x-axis and submit it.\n",
    "</div>"
   ],
   "cell_type": "markdown",
   "metadata": {}
  },
  {
   "cell_type": "code",
   "execution_count": 39,
   "metadata": {},
   "outputs": [
    {
     "output_type": "display_data",
     "data": {
      "text/plain": "<Figure size 432x288 with 1 Axes>",
      "image/svg+xml": "<?xml version=\"1.0\" encoding=\"utf-8\" standalone=\"no\"?>\n<!DOCTYPE svg PUBLIC \"-//W3C//DTD SVG 1.1//EN\"\n  \"http://www.w3.org/Graphics/SVG/1.1/DTD/svg11.dtd\">\n<!-- Created with matplotlib (https://matplotlib.org/) -->\n<svg height=\"275.29625pt\" version=\"1.1\" viewBox=\"0 0 424.832291 275.29625\" width=\"424.832291pt\" xmlns=\"http://www.w3.org/2000/svg\" xmlns:xlink=\"http://www.w3.org/1999/xlink\">\n <metadata>\n  <rdf:RDF xmlns:cc=\"http://creativecommons.org/ns#\" xmlns:dc=\"http://purl.org/dc/elements/1.1/\" xmlns:rdf=\"http://www.w3.org/1999/02/22-rdf-syntax-ns#\">\n   <cc:Work>\n    <dc:type rdf:resource=\"http://purl.org/dc/dcmitype/StillImage\"/>\n    <dc:date>2021-03-07T18:06:50.730036</dc:date>\n    <dc:format>image/svg+xml</dc:format>\n    <dc:creator>\n     <cc:Agent>\n      <dc:title>Matplotlib v3.3.2, https://matplotlib.org/</dc:title>\n     </cc:Agent>\n    </dc:creator>\n   </cc:Work>\n  </rdf:RDF>\n </metadata>\n <defs>\n  <style type=\"text/css\">*{stroke-linecap:butt;stroke-linejoin:round;}</style>\n </defs>\n <g id=\"figure_1\">\n  <g id=\"patch_1\">\n   <path d=\"M 0 275.29625 \nL 424.832291 275.29625 \nL 424.832291 0 \nL 0 0 \nz\n\" style=\"fill:none;\"/>\n  </g>\n  <g id=\"axes_1\">\n   <g id=\"patch_2\">\n    <path d=\"M 70.66875 237.718125 \nL 405.547064 237.718125 \nL 405.547064 22.318125 \nL 70.66875 22.318125 \nz\n\" style=\"fill:#ffffff;\"/>\n   </g>\n   <g id=\"matplotlib.axis_1\">\n    <g id=\"xtick_1\">\n     <g id=\"line2d_1\">\n      <path clip-path=\"url(#pdc08364ac7)\" d=\"M 91.895107 237.718125 \nL 91.895107 22.318125 \n\" style=\"fill:none;stroke:#b0b0b0;stroke-linecap:square;stroke-width:0.8;\"/>\n     </g>\n     <g id=\"line2d_2\">\n      <defs>\n       <path d=\"M 0 0 \nL 0 3.5 \n\" id=\"m7eec9e9b24\" style=\"stroke:#000000;stroke-width:0.8;\"/>\n      </defs>\n      <g>\n       <use style=\"stroke:#000000;stroke-width:0.8;\" x=\"91.895107\" xlink:href=\"#m7eec9e9b24\" y=\"237.718125\"/>\n      </g>\n     </g>\n     <g id=\"text_1\">\n      <!-- −0.005 -->\n      <g transform=\"translate(73.3912 252.316563)scale(0.1 -0.1)\">\n       <defs>\n        <path d=\"M 10.59375 35.5 \nL 73.1875 35.5 \nL 73.1875 27.203125 \nL 10.59375 27.203125 \nz\n\" id=\"DejaVuSans-8722\"/>\n        <path d=\"M 31.78125 66.40625 \nQ 24.171875 66.40625 20.328125 58.90625 \nQ 16.5 51.421875 16.5 36.375 \nQ 16.5 21.390625 20.328125 13.890625 \nQ 24.171875 6.390625 31.78125 6.390625 \nQ 39.453125 6.390625 43.28125 13.890625 \nQ 47.125 21.390625 47.125 36.375 \nQ 47.125 51.421875 43.28125 58.90625 \nQ 39.453125 66.40625 31.78125 66.40625 \nz\nM 31.78125 74.21875 \nQ 44.046875 74.21875 50.515625 64.515625 \nQ 56.984375 54.828125 56.984375 36.375 \nQ 56.984375 17.96875 50.515625 8.265625 \nQ 44.046875 -1.421875 31.78125 -1.421875 \nQ 19.53125 -1.421875 13.0625 8.265625 \nQ 6.59375 17.96875 6.59375 36.375 \nQ 6.59375 54.828125 13.0625 64.515625 \nQ 19.53125 74.21875 31.78125 74.21875 \nz\n\" id=\"DejaVuSans-48\"/>\n        <path d=\"M 10.6875 12.40625 \nL 21 12.40625 \nL 21 0 \nL 10.6875 0 \nz\n\" id=\"DejaVuSans-46\"/>\n        <path d=\"M 10.796875 72.90625 \nL 49.515625 72.90625 \nL 49.515625 64.59375 \nL 19.828125 64.59375 \nL 19.828125 46.734375 \nQ 21.96875 47.46875 24.109375 47.828125 \nQ 26.265625 48.1875 28.421875 48.1875 \nQ 40.625 48.1875 47.75 41.5 \nQ 54.890625 34.8125 54.890625 23.390625 \nQ 54.890625 11.625 47.5625 5.09375 \nQ 40.234375 -1.421875 26.90625 -1.421875 \nQ 22.3125 -1.421875 17.546875 -0.640625 \nQ 12.796875 0.140625 7.71875 1.703125 \nL 7.71875 11.625 \nQ 12.109375 9.234375 16.796875 8.0625 \nQ 21.484375 6.890625 26.703125 6.890625 \nQ 35.15625 6.890625 40.078125 11.328125 \nQ 45.015625 15.765625 45.015625 23.390625 \nQ 45.015625 31 40.078125 35.4375 \nQ 35.15625 39.890625 26.703125 39.890625 \nQ 22.75 39.890625 18.8125 39.015625 \nQ 14.890625 38.140625 10.796875 36.28125 \nz\n\" id=\"DejaVuSans-53\"/>\n       </defs>\n       <use xlink:href=\"#DejaVuSans-8722\"/>\n       <use x=\"83.789062\" xlink:href=\"#DejaVuSans-48\"/>\n       <use x=\"147.412109\" xlink:href=\"#DejaVuSans-46\"/>\n       <use x=\"179.199219\" xlink:href=\"#DejaVuSans-48\"/>\n       <use x=\"242.822266\" xlink:href=\"#DejaVuSans-48\"/>\n       <use x=\"306.445312\" xlink:href=\"#DejaVuSans-53\"/>\n      </g>\n     </g>\n    </g>\n    <g id=\"xtick_2\">\n     <g id=\"line2d_3\">\n      <path clip-path=\"url(#pdc08364ac7)\" d=\"M 130.822997 237.718125 \nL 130.822997 22.318125 \n\" style=\"fill:none;stroke:#b0b0b0;stroke-linecap:square;stroke-width:0.8;\"/>\n     </g>\n     <g id=\"line2d_4\">\n      <g>\n       <use style=\"stroke:#000000;stroke-width:0.8;\" x=\"130.822997\" xlink:href=\"#m7eec9e9b24\" y=\"237.718125\"/>\n      </g>\n     </g>\n     <g id=\"text_2\">\n      <!-- −0.004 -->\n      <g transform=\"translate(112.319091 252.316563)scale(0.1 -0.1)\">\n       <defs>\n        <path d=\"M 37.796875 64.3125 \nL 12.890625 25.390625 \nL 37.796875 25.390625 \nz\nM 35.203125 72.90625 \nL 47.609375 72.90625 \nL 47.609375 25.390625 \nL 58.015625 25.390625 \nL 58.015625 17.1875 \nL 47.609375 17.1875 \nL 47.609375 0 \nL 37.796875 0 \nL 37.796875 17.1875 \nL 4.890625 17.1875 \nL 4.890625 26.703125 \nz\n\" id=\"DejaVuSans-52\"/>\n       </defs>\n       <use xlink:href=\"#DejaVuSans-8722\"/>\n       <use x=\"83.789062\" xlink:href=\"#DejaVuSans-48\"/>\n       <use x=\"147.412109\" xlink:href=\"#DejaVuSans-46\"/>\n       <use x=\"179.199219\" xlink:href=\"#DejaVuSans-48\"/>\n       <use x=\"242.822266\" xlink:href=\"#DejaVuSans-48\"/>\n       <use x=\"306.445312\" xlink:href=\"#DejaVuSans-52\"/>\n      </g>\n     </g>\n    </g>\n    <g id=\"xtick_3\">\n     <g id=\"line2d_5\">\n      <path clip-path=\"url(#pdc08364ac7)\" d=\"M 169.750887 237.718125 \nL 169.750887 22.318125 \n\" style=\"fill:none;stroke:#b0b0b0;stroke-linecap:square;stroke-width:0.8;\"/>\n     </g>\n     <g id=\"line2d_6\">\n      <g>\n       <use style=\"stroke:#000000;stroke-width:0.8;\" x=\"169.750887\" xlink:href=\"#m7eec9e9b24\" y=\"237.718125\"/>\n      </g>\n     </g>\n     <g id=\"text_3\">\n      <!-- −0.003 -->\n      <g transform=\"translate(151.246981 252.316563)scale(0.1 -0.1)\">\n       <defs>\n        <path d=\"M 40.578125 39.3125 \nQ 47.65625 37.796875 51.625 33 \nQ 55.609375 28.21875 55.609375 21.1875 \nQ 55.609375 10.40625 48.1875 4.484375 \nQ 40.765625 -1.421875 27.09375 -1.421875 \nQ 22.515625 -1.421875 17.65625 -0.515625 \nQ 12.796875 0.390625 7.625 2.203125 \nL 7.625 11.71875 \nQ 11.71875 9.328125 16.59375 8.109375 \nQ 21.484375 6.890625 26.8125 6.890625 \nQ 36.078125 6.890625 40.9375 10.546875 \nQ 45.796875 14.203125 45.796875 21.1875 \nQ 45.796875 27.640625 41.28125 31.265625 \nQ 36.765625 34.90625 28.71875 34.90625 \nL 20.21875 34.90625 \nL 20.21875 43.015625 \nL 29.109375 43.015625 \nQ 36.375 43.015625 40.234375 45.921875 \nQ 44.09375 48.828125 44.09375 54.296875 \nQ 44.09375 59.90625 40.109375 62.90625 \nQ 36.140625 65.921875 28.71875 65.921875 \nQ 24.65625 65.921875 20.015625 65.03125 \nQ 15.375 64.15625 9.8125 62.3125 \nL 9.8125 71.09375 \nQ 15.4375 72.65625 20.34375 73.4375 \nQ 25.25 74.21875 29.59375 74.21875 \nQ 40.828125 74.21875 47.359375 69.109375 \nQ 53.90625 64.015625 53.90625 55.328125 \nQ 53.90625 49.265625 50.4375 45.09375 \nQ 46.96875 40.921875 40.578125 39.3125 \nz\n\" id=\"DejaVuSans-51\"/>\n       </defs>\n       <use xlink:href=\"#DejaVuSans-8722\"/>\n       <use x=\"83.789062\" xlink:href=\"#DejaVuSans-48\"/>\n       <use x=\"147.412109\" xlink:href=\"#DejaVuSans-46\"/>\n       <use x=\"179.199219\" xlink:href=\"#DejaVuSans-48\"/>\n       <use x=\"242.822266\" xlink:href=\"#DejaVuSans-48\"/>\n       <use x=\"306.445312\" xlink:href=\"#DejaVuSans-51\"/>\n      </g>\n     </g>\n    </g>\n    <g id=\"xtick_4\">\n     <g id=\"line2d_7\">\n      <path clip-path=\"url(#pdc08364ac7)\" d=\"M 208.678777 237.718125 \nL 208.678777 22.318125 \n\" style=\"fill:none;stroke:#b0b0b0;stroke-linecap:square;stroke-width:0.8;\"/>\n     </g>\n     <g id=\"line2d_8\">\n      <g>\n       <use style=\"stroke:#000000;stroke-width:0.8;\" x=\"208.678777\" xlink:href=\"#m7eec9e9b24\" y=\"237.718125\"/>\n      </g>\n     </g>\n     <g id=\"text_4\">\n      <!-- −0.002 -->\n      <g transform=\"translate(190.174871 252.316563)scale(0.1 -0.1)\">\n       <defs>\n        <path d=\"M 19.1875 8.296875 \nL 53.609375 8.296875 \nL 53.609375 0 \nL 7.328125 0 \nL 7.328125 8.296875 \nQ 12.9375 14.109375 22.625 23.890625 \nQ 32.328125 33.6875 34.8125 36.53125 \nQ 39.546875 41.84375 41.421875 45.53125 \nQ 43.3125 49.21875 43.3125 52.78125 \nQ 43.3125 58.59375 39.234375 62.25 \nQ 35.15625 65.921875 28.609375 65.921875 \nQ 23.96875 65.921875 18.8125 64.3125 \nQ 13.671875 62.703125 7.8125 59.421875 \nL 7.8125 69.390625 \nQ 13.765625 71.78125 18.9375 73 \nQ 24.125 74.21875 28.421875 74.21875 \nQ 39.75 74.21875 46.484375 68.546875 \nQ 53.21875 62.890625 53.21875 53.421875 \nQ 53.21875 48.921875 51.53125 44.890625 \nQ 49.859375 40.875 45.40625 35.40625 \nQ 44.1875 33.984375 37.640625 27.21875 \nQ 31.109375 20.453125 19.1875 8.296875 \nz\n\" id=\"DejaVuSans-50\"/>\n       </defs>\n       <use xlink:href=\"#DejaVuSans-8722\"/>\n       <use x=\"83.789062\" xlink:href=\"#DejaVuSans-48\"/>\n       <use x=\"147.412109\" xlink:href=\"#DejaVuSans-46\"/>\n       <use x=\"179.199219\" xlink:href=\"#DejaVuSans-48\"/>\n       <use x=\"242.822266\" xlink:href=\"#DejaVuSans-48\"/>\n       <use x=\"306.445312\" xlink:href=\"#DejaVuSans-50\"/>\n      </g>\n     </g>\n    </g>\n    <g id=\"xtick_5\">\n     <g id=\"line2d_9\">\n      <path clip-path=\"url(#pdc08364ac7)\" d=\"M 247.606668 237.718125 \nL 247.606668 22.318125 \n\" style=\"fill:none;stroke:#b0b0b0;stroke-linecap:square;stroke-width:0.8;\"/>\n     </g>\n     <g id=\"line2d_10\">\n      <g>\n       <use style=\"stroke:#000000;stroke-width:0.8;\" x=\"247.606668\" xlink:href=\"#m7eec9e9b24\" y=\"237.718125\"/>\n      </g>\n     </g>\n     <g id=\"text_5\">\n      <!-- −0.001 -->\n      <g transform=\"translate(229.102761 252.316563)scale(0.1 -0.1)\">\n       <defs>\n        <path d=\"M 12.40625 8.296875 \nL 28.515625 8.296875 \nL 28.515625 63.921875 \nL 10.984375 60.40625 \nL 10.984375 69.390625 \nL 28.421875 72.90625 \nL 38.28125 72.90625 \nL 38.28125 8.296875 \nL 54.390625 8.296875 \nL 54.390625 0 \nL 12.40625 0 \nz\n\" id=\"DejaVuSans-49\"/>\n       </defs>\n       <use xlink:href=\"#DejaVuSans-8722\"/>\n       <use x=\"83.789062\" xlink:href=\"#DejaVuSans-48\"/>\n       <use x=\"147.412109\" xlink:href=\"#DejaVuSans-46\"/>\n       <use x=\"179.199219\" xlink:href=\"#DejaVuSans-48\"/>\n       <use x=\"242.822266\" xlink:href=\"#DejaVuSans-48\"/>\n       <use x=\"306.445312\" xlink:href=\"#DejaVuSans-49\"/>\n      </g>\n     </g>\n    </g>\n    <g id=\"xtick_6\">\n     <g id=\"line2d_11\">\n      <path clip-path=\"url(#pdc08364ac7)\" d=\"M 286.534558 237.718125 \nL 286.534558 22.318125 \n\" style=\"fill:none;stroke:#b0b0b0;stroke-linecap:square;stroke-width:0.8;\"/>\n     </g>\n     <g id=\"line2d_12\">\n      <g>\n       <use style=\"stroke:#000000;stroke-width:0.8;\" x=\"286.534558\" xlink:href=\"#m7eec9e9b24\" y=\"237.718125\"/>\n      </g>\n     </g>\n     <g id=\"text_6\">\n      <!-- 0.000 -->\n      <g transform=\"translate(272.220495 252.316563)scale(0.1 -0.1)\">\n       <use xlink:href=\"#DejaVuSans-48\"/>\n       <use x=\"63.623047\" xlink:href=\"#DejaVuSans-46\"/>\n       <use x=\"95.410156\" xlink:href=\"#DejaVuSans-48\"/>\n       <use x=\"159.033203\" xlink:href=\"#DejaVuSans-48\"/>\n       <use x=\"222.65625\" xlink:href=\"#DejaVuSans-48\"/>\n      </g>\n     </g>\n    </g>\n    <g id=\"xtick_7\">\n     <g id=\"line2d_13\">\n      <path clip-path=\"url(#pdc08364ac7)\" d=\"M 325.462448 237.718125 \nL 325.462448 22.318125 \n\" style=\"fill:none;stroke:#b0b0b0;stroke-linecap:square;stroke-width:0.8;\"/>\n     </g>\n     <g id=\"line2d_14\">\n      <g>\n       <use style=\"stroke:#000000;stroke-width:0.8;\" x=\"325.462448\" xlink:href=\"#m7eec9e9b24\" y=\"237.718125\"/>\n      </g>\n     </g>\n     <g id=\"text_7\">\n      <!-- 0.001 -->\n      <g transform=\"translate(311.148386 252.316563)scale(0.1 -0.1)\">\n       <use xlink:href=\"#DejaVuSans-48\"/>\n       <use x=\"63.623047\" xlink:href=\"#DejaVuSans-46\"/>\n       <use x=\"95.410156\" xlink:href=\"#DejaVuSans-48\"/>\n       <use x=\"159.033203\" xlink:href=\"#DejaVuSans-48\"/>\n       <use x=\"222.65625\" xlink:href=\"#DejaVuSans-49\"/>\n      </g>\n     </g>\n    </g>\n    <g id=\"xtick_8\">\n     <g id=\"line2d_15\">\n      <path clip-path=\"url(#pdc08364ac7)\" d=\"M 364.390338 237.718125 \nL 364.390338 22.318125 \n\" style=\"fill:none;stroke:#b0b0b0;stroke-linecap:square;stroke-width:0.8;\"/>\n     </g>\n     <g id=\"line2d_16\">\n      <g>\n       <use style=\"stroke:#000000;stroke-width:0.8;\" x=\"364.390338\" xlink:href=\"#m7eec9e9b24\" y=\"237.718125\"/>\n      </g>\n     </g>\n     <g id=\"text_8\">\n      <!-- 0.002 -->\n      <g transform=\"translate(350.076276 252.316563)scale(0.1 -0.1)\">\n       <use xlink:href=\"#DejaVuSans-48\"/>\n       <use x=\"63.623047\" xlink:href=\"#DejaVuSans-46\"/>\n       <use x=\"95.410156\" xlink:href=\"#DejaVuSans-48\"/>\n       <use x=\"159.033203\" xlink:href=\"#DejaVuSans-48\"/>\n       <use x=\"222.65625\" xlink:href=\"#DejaVuSans-50\"/>\n      </g>\n     </g>\n    </g>\n    <g id=\"xtick_9\">\n     <g id=\"line2d_17\">\n      <path clip-path=\"url(#pdc08364ac7)\" d=\"M 403.318229 237.718125 \nL 403.318229 22.318125 \n\" style=\"fill:none;stroke:#b0b0b0;stroke-linecap:square;stroke-width:0.8;\"/>\n     </g>\n     <g id=\"line2d_18\">\n      <g>\n       <use style=\"stroke:#000000;stroke-width:0.8;\" x=\"403.318229\" xlink:href=\"#m7eec9e9b24\" y=\"237.718125\"/>\n      </g>\n     </g>\n     <g id=\"text_9\">\n      <!-- 0.003 -->\n      <g transform=\"translate(389.004166 252.316563)scale(0.1 -0.1)\">\n       <use xlink:href=\"#DejaVuSans-48\"/>\n       <use x=\"63.623047\" xlink:href=\"#DejaVuSans-46\"/>\n       <use x=\"95.410156\" xlink:href=\"#DejaVuSans-48\"/>\n       <use x=\"159.033203\" xlink:href=\"#DejaVuSans-48\"/>\n       <use x=\"222.65625\" xlink:href=\"#DejaVuSans-51\"/>\n      </g>\n     </g>\n    </g>\n    <g id=\"text_10\">\n     <!-- ($\\longleftarrow$ Conservative Party)        (Liberal Party $\\longrightarrow$) -->\n     <g transform=\"translate(117.057907 265.99625)scale(0.1 -0.1)\">\n      <defs>\n       <path d=\"M 31 75.875 \nQ 24.46875 64.65625 21.28125 53.65625 \nQ 18.109375 42.671875 18.109375 31.390625 \nQ 18.109375 20.125 21.3125 9.0625 \nQ 24.515625 -2 31 -13.1875 \nL 23.1875 -13.1875 \nQ 15.875 -1.703125 12.234375 9.375 \nQ 8.59375 20.453125 8.59375 31.390625 \nQ 8.59375 42.28125 12.203125 53.3125 \nQ 15.828125 64.359375 23.1875 75.875 \nz\n\" id=\"DejaVuSans-40\"/>\n       <path d=\"M 4.890625 29.15625 \nL 4.890625 33.546875 \nL 24.078125 52.734375 \nL 29.9375 46.875 \nL 18.5625 35.5 \nL 137.640625 35.5 \nL 137.640625 27.203125 \nL 18.5625 27.203125 \nL 29.9375 15.828125 \nL 24.078125 9.96875 \nz\n\" id=\"DejaVuSans-10229\"/>\n       <path id=\"DejaVuSans-32\"/>\n       <path d=\"M 64.40625 67.28125 \nL 64.40625 56.890625 \nQ 59.421875 61.53125 53.78125 63.8125 \nQ 48.140625 66.109375 41.796875 66.109375 \nQ 29.296875 66.109375 22.65625 58.46875 \nQ 16.015625 50.828125 16.015625 36.375 \nQ 16.015625 21.96875 22.65625 14.328125 \nQ 29.296875 6.6875 41.796875 6.6875 \nQ 48.140625 6.6875 53.78125 8.984375 \nQ 59.421875 11.28125 64.40625 15.921875 \nL 64.40625 5.609375 \nQ 59.234375 2.09375 53.4375 0.328125 \nQ 47.65625 -1.421875 41.21875 -1.421875 \nQ 24.65625 -1.421875 15.125 8.703125 \nQ 5.609375 18.84375 5.609375 36.375 \nQ 5.609375 53.953125 15.125 64.078125 \nQ 24.65625 74.21875 41.21875 74.21875 \nQ 47.75 74.21875 53.53125 72.484375 \nQ 59.328125 70.75 64.40625 67.28125 \nz\n\" id=\"DejaVuSans-67\"/>\n       <path d=\"M 30.609375 48.390625 \nQ 23.390625 48.390625 19.1875 42.75 \nQ 14.984375 37.109375 14.984375 27.296875 \nQ 14.984375 17.484375 19.15625 11.84375 \nQ 23.34375 6.203125 30.609375 6.203125 \nQ 37.796875 6.203125 41.984375 11.859375 \nQ 46.1875 17.53125 46.1875 27.296875 \nQ 46.1875 37.015625 41.984375 42.703125 \nQ 37.796875 48.390625 30.609375 48.390625 \nz\nM 30.609375 56 \nQ 42.328125 56 49.015625 48.375 \nQ 55.71875 40.765625 55.71875 27.296875 \nQ 55.71875 13.875 49.015625 6.21875 \nQ 42.328125 -1.421875 30.609375 -1.421875 \nQ 18.84375 -1.421875 12.171875 6.21875 \nQ 5.515625 13.875 5.515625 27.296875 \nQ 5.515625 40.765625 12.171875 48.375 \nQ 18.84375 56 30.609375 56 \nz\n\" id=\"DejaVuSans-111\"/>\n       <path d=\"M 54.890625 33.015625 \nL 54.890625 0 \nL 45.90625 0 \nL 45.90625 32.71875 \nQ 45.90625 40.484375 42.875 44.328125 \nQ 39.84375 48.1875 33.796875 48.1875 \nQ 26.515625 48.1875 22.3125 43.546875 \nQ 18.109375 38.921875 18.109375 30.90625 \nL 18.109375 0 \nL 9.078125 0 \nL 9.078125 54.6875 \nL 18.109375 54.6875 \nL 18.109375 46.1875 \nQ 21.34375 51.125 25.703125 53.5625 \nQ 30.078125 56 35.796875 56 \nQ 45.21875 56 50.046875 50.171875 \nQ 54.890625 44.34375 54.890625 33.015625 \nz\n\" id=\"DejaVuSans-110\"/>\n       <path d=\"M 44.28125 53.078125 \nL 44.28125 44.578125 \nQ 40.484375 46.53125 36.375 47.5 \nQ 32.28125 48.484375 27.875 48.484375 \nQ 21.1875 48.484375 17.84375 46.4375 \nQ 14.5 44.390625 14.5 40.28125 \nQ 14.5 37.15625 16.890625 35.375 \nQ 19.28125 33.59375 26.515625 31.984375 \nL 29.59375 31.296875 \nQ 39.15625 29.25 43.1875 25.515625 \nQ 47.21875 21.78125 47.21875 15.09375 \nQ 47.21875 7.46875 41.1875 3.015625 \nQ 35.15625 -1.421875 24.609375 -1.421875 \nQ 20.21875 -1.421875 15.453125 -0.5625 \nQ 10.6875 0.296875 5.421875 2 \nL 5.421875 11.28125 \nQ 10.40625 8.6875 15.234375 7.390625 \nQ 20.0625 6.109375 24.8125 6.109375 \nQ 31.15625 6.109375 34.5625 8.28125 \nQ 37.984375 10.453125 37.984375 14.40625 \nQ 37.984375 18.0625 35.515625 20.015625 \nQ 33.0625 21.96875 24.703125 23.78125 \nL 21.578125 24.515625 \nQ 13.234375 26.265625 9.515625 29.90625 \nQ 5.8125 33.546875 5.8125 39.890625 \nQ 5.8125 47.609375 11.28125 51.796875 \nQ 16.75 56 26.8125 56 \nQ 31.78125 56 36.171875 55.265625 \nQ 40.578125 54.546875 44.28125 53.078125 \nz\n\" id=\"DejaVuSans-115\"/>\n       <path d=\"M 56.203125 29.59375 \nL 56.203125 25.203125 \nL 14.890625 25.203125 \nQ 15.484375 15.921875 20.484375 11.0625 \nQ 25.484375 6.203125 34.421875 6.203125 \nQ 39.59375 6.203125 44.453125 7.46875 \nQ 49.3125 8.734375 54.109375 11.28125 \nL 54.109375 2.78125 \nQ 49.265625 0.734375 44.1875 -0.34375 \nQ 39.109375 -1.421875 33.890625 -1.421875 \nQ 20.796875 -1.421875 13.15625 6.1875 \nQ 5.515625 13.8125 5.515625 26.8125 \nQ 5.515625 40.234375 12.765625 48.109375 \nQ 20.015625 56 32.328125 56 \nQ 43.359375 56 49.78125 48.890625 \nQ 56.203125 41.796875 56.203125 29.59375 \nz\nM 47.21875 32.234375 \nQ 47.125 39.59375 43.09375 43.984375 \nQ 39.0625 48.390625 32.421875 48.390625 \nQ 24.90625 48.390625 20.390625 44.140625 \nQ 15.875 39.890625 15.1875 32.171875 \nz\n\" id=\"DejaVuSans-101\"/>\n       <path d=\"M 41.109375 46.296875 \nQ 39.59375 47.171875 37.8125 47.578125 \nQ 36.03125 48 33.890625 48 \nQ 26.265625 48 22.1875 43.046875 \nQ 18.109375 38.09375 18.109375 28.8125 \nL 18.109375 0 \nL 9.078125 0 \nL 9.078125 54.6875 \nL 18.109375 54.6875 \nL 18.109375 46.1875 \nQ 20.953125 51.171875 25.484375 53.578125 \nQ 30.03125 56 36.53125 56 \nQ 37.453125 56 38.578125 55.875 \nQ 39.703125 55.765625 41.0625 55.515625 \nz\n\" id=\"DejaVuSans-114\"/>\n       <path d=\"M 2.984375 54.6875 \nL 12.5 54.6875 \nL 29.59375 8.796875 \nL 46.6875 54.6875 \nL 56.203125 54.6875 \nL 35.6875 0 \nL 23.484375 0 \nz\n\" id=\"DejaVuSans-118\"/>\n       <path d=\"M 34.28125 27.484375 \nQ 23.390625 27.484375 19.1875 25 \nQ 14.984375 22.515625 14.984375 16.5 \nQ 14.984375 11.71875 18.140625 8.90625 \nQ 21.296875 6.109375 26.703125 6.109375 \nQ 34.1875 6.109375 38.703125 11.40625 \nQ 43.21875 16.703125 43.21875 25.484375 \nL 43.21875 27.484375 \nz\nM 52.203125 31.203125 \nL 52.203125 0 \nL 43.21875 0 \nL 43.21875 8.296875 \nQ 40.140625 3.328125 35.546875 0.953125 \nQ 30.953125 -1.421875 24.3125 -1.421875 \nQ 15.921875 -1.421875 10.953125 3.296875 \nQ 6 8.015625 6 15.921875 \nQ 6 25.140625 12.171875 29.828125 \nQ 18.359375 34.515625 30.609375 34.515625 \nL 43.21875 34.515625 \nL 43.21875 35.40625 \nQ 43.21875 41.609375 39.140625 45 \nQ 35.0625 48.390625 27.6875 48.390625 \nQ 23 48.390625 18.546875 47.265625 \nQ 14.109375 46.140625 10.015625 43.890625 \nL 10.015625 52.203125 \nQ 14.9375 54.109375 19.578125 55.046875 \nQ 24.21875 56 28.609375 56 \nQ 40.484375 56 46.34375 49.84375 \nQ 52.203125 43.703125 52.203125 31.203125 \nz\n\" id=\"DejaVuSans-97\"/>\n       <path d=\"M 18.3125 70.21875 \nL 18.3125 54.6875 \nL 36.8125 54.6875 \nL 36.8125 47.703125 \nL 18.3125 47.703125 \nL 18.3125 18.015625 \nQ 18.3125 11.328125 20.140625 9.421875 \nQ 21.96875 7.515625 27.59375 7.515625 \nL 36.8125 7.515625 \nL 36.8125 0 \nL 27.59375 0 \nQ 17.1875 0 13.234375 3.875 \nQ 9.28125 7.765625 9.28125 18.015625 \nL 9.28125 47.703125 \nL 2.6875 47.703125 \nL 2.6875 54.6875 \nL 9.28125 54.6875 \nL 9.28125 70.21875 \nz\n\" id=\"DejaVuSans-116\"/>\n       <path d=\"M 9.421875 54.6875 \nL 18.40625 54.6875 \nL 18.40625 0 \nL 9.421875 0 \nz\nM 9.421875 75.984375 \nL 18.40625 75.984375 \nL 18.40625 64.59375 \nL 9.421875 64.59375 \nz\n\" id=\"DejaVuSans-105\"/>\n       <path d=\"M 19.671875 64.796875 \nL 19.671875 37.40625 \nL 32.078125 37.40625 \nQ 38.96875 37.40625 42.71875 40.96875 \nQ 46.484375 44.53125 46.484375 51.125 \nQ 46.484375 57.671875 42.71875 61.234375 \nQ 38.96875 64.796875 32.078125 64.796875 \nz\nM 9.8125 72.90625 \nL 32.078125 72.90625 \nQ 44.34375 72.90625 50.609375 67.359375 \nQ 56.890625 61.8125 56.890625 51.125 \nQ 56.890625 40.328125 50.609375 34.8125 \nQ 44.34375 29.296875 32.078125 29.296875 \nL 19.671875 29.296875 \nL 19.671875 0 \nL 9.8125 0 \nz\n\" id=\"DejaVuSans-80\"/>\n       <path d=\"M 32.171875 -5.078125 \nQ 28.375 -14.84375 24.75 -17.8125 \nQ 21.140625 -20.796875 15.09375 -20.796875 \nL 7.90625 -20.796875 \nL 7.90625 -13.28125 \nL 13.1875 -13.28125 \nQ 16.890625 -13.28125 18.9375 -11.515625 \nQ 21 -9.765625 23.484375 -3.21875 \nL 25.09375 0.875 \nL 2.984375 54.6875 \nL 12.5 54.6875 \nL 29.59375 11.921875 \nL 46.6875 54.6875 \nL 56.203125 54.6875 \nz\n\" id=\"DejaVuSans-121\"/>\n       <path d=\"M 8.015625 75.875 \nL 15.828125 75.875 \nQ 23.140625 64.359375 26.78125 53.3125 \nQ 30.421875 42.28125 30.421875 31.390625 \nQ 30.421875 20.453125 26.78125 9.375 \nQ 23.140625 -1.703125 15.828125 -13.1875 \nL 8.015625 -13.1875 \nQ 14.5 -2 17.703125 9.0625 \nQ 20.90625 20.125 20.90625 31.390625 \nQ 20.90625 42.671875 17.703125 53.65625 \nQ 14.5 64.65625 8.015625 75.875 \nz\n\" id=\"DejaVuSans-41\"/>\n       <path d=\"M 9.8125 72.90625 \nL 19.671875 72.90625 \nL 19.671875 8.296875 \nL 55.171875 8.296875 \nL 55.171875 0 \nL 9.8125 0 \nz\n\" id=\"DejaVuSans-76\"/>\n       <path d=\"M 48.6875 27.296875 \nQ 48.6875 37.203125 44.609375 42.84375 \nQ 40.53125 48.484375 33.40625 48.484375 \nQ 26.265625 48.484375 22.1875 42.84375 \nQ 18.109375 37.203125 18.109375 27.296875 \nQ 18.109375 17.390625 22.1875 11.75 \nQ 26.265625 6.109375 33.40625 6.109375 \nQ 40.53125 6.109375 44.609375 11.75 \nQ 48.6875 17.390625 48.6875 27.296875 \nz\nM 18.109375 46.390625 \nQ 20.953125 51.265625 25.265625 53.625 \nQ 29.59375 56 35.59375 56 \nQ 45.5625 56 51.78125 48.09375 \nQ 58.015625 40.1875 58.015625 27.296875 \nQ 58.015625 14.40625 51.78125 6.484375 \nQ 45.5625 -1.421875 35.59375 -1.421875 \nQ 29.59375 -1.421875 25.265625 0.953125 \nQ 20.953125 3.328125 18.109375 8.203125 \nL 18.109375 0 \nL 9.078125 0 \nL 9.078125 75.984375 \nL 18.109375 75.984375 \nz\n\" id=\"DejaVuSans-98\"/>\n       <path d=\"M 9.421875 75.984375 \nL 18.40625 75.984375 \nL 18.40625 0 \nL 9.421875 0 \nz\n\" id=\"DejaVuSans-108\"/>\n       <path d=\"M 138.484375 33.546875 \nL 138.484375 29.15625 \nL 119.28125 9.96875 \nL 113.421875 15.828125 \nL 124.8125 27.203125 \nL 5.71875 27.203125 \nL 5.71875 35.5 \nL 124.8125 35.5 \nL 113.421875 46.875 \nL 119.28125 52.734375 \nz\n\" id=\"DejaVuSans-10230\"/>\n      </defs>\n      <use transform=\"translate(0 0.015625)\" xlink:href=\"#DejaVuSans-40\"/>\n      <use transform=\"translate(58.496094 0.015625)\" xlink:href=\"#DejaVuSans-10229\"/>\n      <use transform=\"translate(221.337891 0.015625)\" xlink:href=\"#DejaVuSans-32\"/>\n      <use transform=\"translate(253.125 0.015625)\" xlink:href=\"#DejaVuSans-67\"/>\n      <use transform=\"translate(322.949219 0.015625)\" xlink:href=\"#DejaVuSans-111\"/>\n      <use transform=\"translate(384.130859 0.015625)\" xlink:href=\"#DejaVuSans-110\"/>\n      <use transform=\"translate(447.509766 0.015625)\" xlink:href=\"#DejaVuSans-115\"/>\n      <use transform=\"translate(499.609375 0.015625)\" xlink:href=\"#DejaVuSans-101\"/>\n      <use transform=\"translate(561.132812 0.015625)\" xlink:href=\"#DejaVuSans-114\"/>\n      <use transform=\"translate(602.246094 0.015625)\" xlink:href=\"#DejaVuSans-118\"/>\n      <use transform=\"translate(661.425781 0.015625)\" xlink:href=\"#DejaVuSans-97\"/>\n      <use transform=\"translate(722.705078 0.015625)\" xlink:href=\"#DejaVuSans-116\"/>\n      <use transform=\"translate(761.914062 0.015625)\" xlink:href=\"#DejaVuSans-105\"/>\n      <use transform=\"translate(789.697266 0.015625)\" xlink:href=\"#DejaVuSans-118\"/>\n      <use transform=\"translate(848.876953 0.015625)\" xlink:href=\"#DejaVuSans-101\"/>\n      <use transform=\"translate(910.400391 0.015625)\" xlink:href=\"#DejaVuSans-32\"/>\n      <use transform=\"translate(942.1875 0.015625)\" xlink:href=\"#DejaVuSans-80\"/>\n      <use transform=\"translate(1002.490234 0.015625)\" xlink:href=\"#DejaVuSans-97\"/>\n      <use transform=\"translate(1063.769531 0.015625)\" xlink:href=\"#DejaVuSans-114\"/>\n      <use transform=\"translate(1104.882812 0.015625)\" xlink:href=\"#DejaVuSans-116\"/>\n      <use transform=\"translate(1144.091797 0.015625)\" xlink:href=\"#DejaVuSans-121\"/>\n      <use transform=\"translate(1203.271484 0.015625)\" xlink:href=\"#DejaVuSans-41\"/>\n      <use transform=\"translate(1242.285156 0.015625)\" xlink:href=\"#DejaVuSans-32\"/>\n      <use transform=\"translate(1274.072266 0.015625)\" xlink:href=\"#DejaVuSans-32\"/>\n      <use transform=\"translate(1305.859375 0.015625)\" xlink:href=\"#DejaVuSans-32\"/>\n      <use transform=\"translate(1337.646484 0.015625)\" xlink:href=\"#DejaVuSans-32\"/>\n      <use transform=\"translate(1369.433594 0.015625)\" xlink:href=\"#DejaVuSans-32\"/>\n      <use transform=\"translate(1401.220703 0.015625)\" xlink:href=\"#DejaVuSans-32\"/>\n      <use transform=\"translate(1433.007812 0.015625)\" xlink:href=\"#DejaVuSans-32\"/>\n      <use transform=\"translate(1464.794922 0.015625)\" xlink:href=\"#DejaVuSans-32\"/>\n      <use transform=\"translate(1496.582031 0.015625)\" xlink:href=\"#DejaVuSans-40\"/>\n      <use transform=\"translate(1535.595703 0.015625)\" xlink:href=\"#DejaVuSans-76\"/>\n      <use transform=\"translate(1591.308594 0.015625)\" xlink:href=\"#DejaVuSans-105\"/>\n      <use transform=\"translate(1619.091797 0.015625)\" xlink:href=\"#DejaVuSans-98\"/>\n      <use transform=\"translate(1682.568359 0.015625)\" xlink:href=\"#DejaVuSans-101\"/>\n      <use transform=\"translate(1744.091797 0.015625)\" xlink:href=\"#DejaVuSans-114\"/>\n      <use transform=\"translate(1785.205078 0.015625)\" xlink:href=\"#DejaVuSans-97\"/>\n      <use transform=\"translate(1846.484375 0.015625)\" xlink:href=\"#DejaVuSans-108\"/>\n      <use transform=\"translate(1874.267578 0.015625)\" xlink:href=\"#DejaVuSans-32\"/>\n      <use transform=\"translate(1906.054688 0.015625)\" xlink:href=\"#DejaVuSans-80\"/>\n      <use transform=\"translate(1966.357422 0.015625)\" xlink:href=\"#DejaVuSans-97\"/>\n      <use transform=\"translate(2027.636719 0.015625)\" xlink:href=\"#DejaVuSans-114\"/>\n      <use transform=\"translate(2068.75 0.015625)\" xlink:href=\"#DejaVuSans-116\"/>\n      <use transform=\"translate(2107.958984 0.015625)\" xlink:href=\"#DejaVuSans-121\"/>\n      <use transform=\"translate(2167.138672 0.015625)\" xlink:href=\"#DejaVuSans-32\"/>\n      <use transform=\"translate(2218.408203 0.015625)\" xlink:href=\"#DejaVuSans-10230\"/>\n      <use transform=\"translate(2381.25 0.015625)\" xlink:href=\"#DejaVuSans-41\"/>\n     </g>\n    </g>\n   </g>\n   <g id=\"matplotlib.axis_2\">\n    <g id=\"ytick_1\">\n     <g id=\"line2d_19\">\n      <path clip-path=\"url(#pdc08364ac7)\" d=\"M 70.66875 33.088125 \nL 405.547064 33.088125 \n\" style=\"fill:none;stroke:#b0b0b0;stroke-linecap:square;stroke-width:0.8;\"/>\n     </g>\n     <g id=\"line2d_20\">\n      <defs>\n       <path d=\"M 0 0 \nL -3.5 0 \n\" id=\"m828f9456c6\" style=\"stroke:#000000;stroke-width:0.8;\"/>\n      </defs>\n      <g>\n       <use style=\"stroke:#000000;stroke-width:0.8;\" x=\"70.66875\" xlink:href=\"#m828f9456c6\" y=\"33.088125\"/>\n      </g>\n     </g>\n     <g id=\"text_11\">\n      <!-- economy -->\n      <g transform=\"translate(17.782812 36.887344)scale(0.1 -0.1)\">\n       <defs>\n        <path d=\"M 48.78125 52.59375 \nL 48.78125 44.1875 \nQ 44.96875 46.296875 41.140625 47.34375 \nQ 37.3125 48.390625 33.40625 48.390625 \nQ 24.65625 48.390625 19.8125 42.84375 \nQ 14.984375 37.3125 14.984375 27.296875 \nQ 14.984375 17.28125 19.8125 11.734375 \nQ 24.65625 6.203125 33.40625 6.203125 \nQ 37.3125 6.203125 41.140625 7.25 \nQ 44.96875 8.296875 48.78125 10.40625 \nL 48.78125 2.09375 \nQ 45.015625 0.34375 40.984375 -0.53125 \nQ 36.96875 -1.421875 32.421875 -1.421875 \nQ 20.0625 -1.421875 12.78125 6.34375 \nQ 5.515625 14.109375 5.515625 27.296875 \nQ 5.515625 40.671875 12.859375 48.328125 \nQ 20.21875 56 33.015625 56 \nQ 37.15625 56 41.109375 55.140625 \nQ 45.0625 54.296875 48.78125 52.59375 \nz\n\" id=\"DejaVuSans-99\"/>\n        <path d=\"M 52 44.1875 \nQ 55.375 50.25 60.0625 53.125 \nQ 64.75 56 71.09375 56 \nQ 79.640625 56 84.28125 50.015625 \nQ 88.921875 44.046875 88.921875 33.015625 \nL 88.921875 0 \nL 79.890625 0 \nL 79.890625 32.71875 \nQ 79.890625 40.578125 77.09375 44.375 \nQ 74.3125 48.1875 68.609375 48.1875 \nQ 61.625 48.1875 57.5625 43.546875 \nQ 53.515625 38.921875 53.515625 30.90625 \nL 53.515625 0 \nL 44.484375 0 \nL 44.484375 32.71875 \nQ 44.484375 40.625 41.703125 44.40625 \nQ 38.921875 48.1875 33.109375 48.1875 \nQ 26.21875 48.1875 22.15625 43.53125 \nQ 18.109375 38.875 18.109375 30.90625 \nL 18.109375 0 \nL 9.078125 0 \nL 9.078125 54.6875 \nL 18.109375 54.6875 \nL 18.109375 46.1875 \nQ 21.1875 51.21875 25.484375 53.609375 \nQ 29.78125 56 35.6875 56 \nQ 41.65625 56 45.828125 52.96875 \nQ 50 49.953125 52 44.1875 \nz\n\" id=\"DejaVuSans-109\"/>\n       </defs>\n       <use xlink:href=\"#DejaVuSans-101\"/>\n       <use x=\"61.523438\" xlink:href=\"#DejaVuSans-99\"/>\n       <use x=\"116.503906\" xlink:href=\"#DejaVuSans-111\"/>\n       <use x=\"177.685547\" xlink:href=\"#DejaVuSans-110\"/>\n       <use x=\"241.064453\" xlink:href=\"#DejaVuSans-111\"/>\n       <use x=\"302.246094\" xlink:href=\"#DejaVuSans-109\"/>\n       <use x=\"399.658203\" xlink:href=\"#DejaVuSans-121\"/>\n      </g>\n     </g>\n    </g>\n    <g id=\"ytick_2\">\n     <g id=\"line2d_21\">\n      <path clip-path=\"url(#pdc08364ac7)\" d=\"M 70.66875 54.628125 \nL 405.547064 54.628125 \n\" style=\"fill:none;stroke:#b0b0b0;stroke-linecap:square;stroke-width:0.8;\"/>\n     </g>\n     <g id=\"line2d_22\">\n      <g>\n       <use style=\"stroke:#000000;stroke-width:0.8;\" x=\"70.66875\" xlink:href=\"#m828f9456c6\" y=\"54.628125\"/>\n      </g>\n     </g>\n     <g id=\"text_12\">\n      <!-- investment -->\n      <g transform=\"translate(7.2 58.427344)scale(0.1 -0.1)\">\n       <use xlink:href=\"#DejaVuSans-105\"/>\n       <use x=\"27.783203\" xlink:href=\"#DejaVuSans-110\"/>\n       <use x=\"91.162109\" xlink:href=\"#DejaVuSans-118\"/>\n       <use x=\"150.341797\" xlink:href=\"#DejaVuSans-101\"/>\n       <use x=\"211.865234\" xlink:href=\"#DejaVuSans-115\"/>\n       <use x=\"263.964844\" xlink:href=\"#DejaVuSans-116\"/>\n       <use x=\"303.173828\" xlink:href=\"#DejaVuSans-109\"/>\n       <use x=\"400.585938\" xlink:href=\"#DejaVuSans-101\"/>\n       <use x=\"462.109375\" xlink:href=\"#DejaVuSans-110\"/>\n       <use x=\"525.488281\" xlink:href=\"#DejaVuSans-116\"/>\n      </g>\n     </g>\n    </g>\n    <g id=\"ytick_3\">\n     <g id=\"line2d_23\">\n      <path clip-path=\"url(#pdc08364ac7)\" d=\"M 70.66875 76.168125 \nL 405.547064 76.168125 \n\" style=\"fill:none;stroke:#b0b0b0;stroke-linecap:square;stroke-width:0.8;\"/>\n     </g>\n     <g id=\"line2d_24\">\n      <g>\n       <use style=\"stroke:#000000;stroke-width:0.8;\" x=\"70.66875\" xlink:href=\"#m828f9456c6\" y=\"76.168125\"/>\n      </g>\n     </g>\n     <g id=\"text_13\">\n      <!-- indigenous -->\n      <g transform=\"translate(8.921875 79.967344)scale(0.1 -0.1)\">\n       <defs>\n        <path d=\"M 45.40625 46.390625 \nL 45.40625 75.984375 \nL 54.390625 75.984375 \nL 54.390625 0 \nL 45.40625 0 \nL 45.40625 8.203125 \nQ 42.578125 3.328125 38.25 0.953125 \nQ 33.9375 -1.421875 27.875 -1.421875 \nQ 17.96875 -1.421875 11.734375 6.484375 \nQ 5.515625 14.40625 5.515625 27.296875 \nQ 5.515625 40.1875 11.734375 48.09375 \nQ 17.96875 56 27.875 56 \nQ 33.9375 56 38.25 53.625 \nQ 42.578125 51.265625 45.40625 46.390625 \nz\nM 14.796875 27.296875 \nQ 14.796875 17.390625 18.875 11.75 \nQ 22.953125 6.109375 30.078125 6.109375 \nQ 37.203125 6.109375 41.296875 11.75 \nQ 45.40625 17.390625 45.40625 27.296875 \nQ 45.40625 37.203125 41.296875 42.84375 \nQ 37.203125 48.484375 30.078125 48.484375 \nQ 22.953125 48.484375 18.875 42.84375 \nQ 14.796875 37.203125 14.796875 27.296875 \nz\n\" id=\"DejaVuSans-100\"/>\n        <path d=\"M 45.40625 27.984375 \nQ 45.40625 37.75 41.375 43.109375 \nQ 37.359375 48.484375 30.078125 48.484375 \nQ 22.859375 48.484375 18.828125 43.109375 \nQ 14.796875 37.75 14.796875 27.984375 \nQ 14.796875 18.265625 18.828125 12.890625 \nQ 22.859375 7.515625 30.078125 7.515625 \nQ 37.359375 7.515625 41.375 12.890625 \nQ 45.40625 18.265625 45.40625 27.984375 \nz\nM 54.390625 6.78125 \nQ 54.390625 -7.171875 48.1875 -13.984375 \nQ 42 -20.796875 29.203125 -20.796875 \nQ 24.46875 -20.796875 20.265625 -20.09375 \nQ 16.0625 -19.390625 12.109375 -17.921875 \nL 12.109375 -9.1875 \nQ 16.0625 -11.328125 19.921875 -12.34375 \nQ 23.78125 -13.375 27.78125 -13.375 \nQ 36.625 -13.375 41.015625 -8.765625 \nQ 45.40625 -4.15625 45.40625 5.171875 \nL 45.40625 9.625 \nQ 42.625 4.78125 38.28125 2.390625 \nQ 33.9375 0 27.875 0 \nQ 17.828125 0 11.671875 7.65625 \nQ 5.515625 15.328125 5.515625 27.984375 \nQ 5.515625 40.671875 11.671875 48.328125 \nQ 17.828125 56 27.875 56 \nQ 33.9375 56 38.28125 53.609375 \nQ 42.625 51.21875 45.40625 46.390625 \nL 45.40625 54.6875 \nL 54.390625 54.6875 \nz\n\" id=\"DejaVuSans-103\"/>\n        <path d=\"M 8.5 21.578125 \nL 8.5 54.6875 \nL 17.484375 54.6875 \nL 17.484375 21.921875 \nQ 17.484375 14.15625 20.5 10.265625 \nQ 23.53125 6.390625 29.59375 6.390625 \nQ 36.859375 6.390625 41.078125 11.03125 \nQ 45.3125 15.671875 45.3125 23.6875 \nL 45.3125 54.6875 \nL 54.296875 54.6875 \nL 54.296875 0 \nL 45.3125 0 \nL 45.3125 8.40625 \nQ 42.046875 3.421875 37.71875 1 \nQ 33.40625 -1.421875 27.6875 -1.421875 \nQ 18.265625 -1.421875 13.375 4.4375 \nQ 8.5 10.296875 8.5 21.578125 \nz\nM 31.109375 56 \nz\n\" id=\"DejaVuSans-117\"/>\n       </defs>\n       <use xlink:href=\"#DejaVuSans-105\"/>\n       <use x=\"27.783203\" xlink:href=\"#DejaVuSans-110\"/>\n       <use x=\"91.162109\" xlink:href=\"#DejaVuSans-100\"/>\n       <use x=\"154.638672\" xlink:href=\"#DejaVuSans-105\"/>\n       <use x=\"182.421875\" xlink:href=\"#DejaVuSans-103\"/>\n       <use x=\"245.898438\" xlink:href=\"#DejaVuSans-101\"/>\n       <use x=\"307.421875\" xlink:href=\"#DejaVuSans-110\"/>\n       <use x=\"370.800781\" xlink:href=\"#DejaVuSans-111\"/>\n       <use x=\"431.982422\" xlink:href=\"#DejaVuSans-117\"/>\n       <use x=\"495.361328\" xlink:href=\"#DejaVuSans-115\"/>\n      </g>\n     </g>\n    </g>\n    <g id=\"ytick_4\">\n     <g id=\"line2d_25\">\n      <path clip-path=\"url(#pdc08364ac7)\" d=\"M 70.66875 97.708125 \nL 405.547064 97.708125 \n\" style=\"fill:none;stroke:#b0b0b0;stroke-linecap:square;stroke-width:0.8;\"/>\n     </g>\n     <g id=\"line2d_26\">\n      <g>\n       <use style=\"stroke:#000000;stroke-width:0.8;\" x=\"70.66875\" xlink:href=\"#m828f9456c6\" y=\"97.708125\"/>\n      </g>\n     </g>\n     <g id=\"text_14\">\n      <!-- system -->\n      <g transform=\"translate(27.517187 101.507344)scale(0.1 -0.1)\">\n       <use xlink:href=\"#DejaVuSans-115\"/>\n       <use x=\"52.099609\" xlink:href=\"#DejaVuSans-121\"/>\n       <use x=\"111.279297\" xlink:href=\"#DejaVuSans-115\"/>\n       <use x=\"163.378906\" xlink:href=\"#DejaVuSans-116\"/>\n       <use x=\"202.587891\" xlink:href=\"#DejaVuSans-101\"/>\n       <use x=\"264.111328\" xlink:href=\"#DejaVuSans-109\"/>\n      </g>\n     </g>\n    </g>\n    <g id=\"ytick_5\">\n     <g id=\"line2d_27\">\n      <path clip-path=\"url(#pdc08364ac7)\" d=\"M 70.66875 119.248125 \nL 405.547064 119.248125 \n\" style=\"fill:none;stroke:#b0b0b0;stroke-linecap:square;stroke-width:0.8;\"/>\n     </g>\n     <g id=\"line2d_28\">\n      <g>\n       <use style=\"stroke:#000000;stroke-width:0.8;\" x=\"70.66875\" xlink:href=\"#m828f9456c6\" y=\"119.248125\"/>\n      </g>\n     </g>\n     <g id=\"text_15\">\n      <!-- housing -->\n      <g transform=\"translate(24.201563 123.047344)scale(0.1 -0.1)\">\n       <defs>\n        <path d=\"M 54.890625 33.015625 \nL 54.890625 0 \nL 45.90625 0 \nL 45.90625 32.71875 \nQ 45.90625 40.484375 42.875 44.328125 \nQ 39.84375 48.1875 33.796875 48.1875 \nQ 26.515625 48.1875 22.3125 43.546875 \nQ 18.109375 38.921875 18.109375 30.90625 \nL 18.109375 0 \nL 9.078125 0 \nL 9.078125 75.984375 \nL 18.109375 75.984375 \nL 18.109375 46.1875 \nQ 21.34375 51.125 25.703125 53.5625 \nQ 30.078125 56 35.796875 56 \nQ 45.21875 56 50.046875 50.171875 \nQ 54.890625 44.34375 54.890625 33.015625 \nz\n\" id=\"DejaVuSans-104\"/>\n       </defs>\n       <use xlink:href=\"#DejaVuSans-104\"/>\n       <use x=\"63.378906\" xlink:href=\"#DejaVuSans-111\"/>\n       <use x=\"124.560547\" xlink:href=\"#DejaVuSans-117\"/>\n       <use x=\"187.939453\" xlink:href=\"#DejaVuSans-115\"/>\n       <use x=\"240.039062\" xlink:href=\"#DejaVuSans-105\"/>\n       <use x=\"267.822266\" xlink:href=\"#DejaVuSans-110\"/>\n       <use x=\"331.201172\" xlink:href=\"#DejaVuSans-103\"/>\n      </g>\n     </g>\n    </g>\n    <g id=\"ytick_6\">\n     <g id=\"line2d_29\">\n      <path clip-path=\"url(#pdc08364ac7)\" d=\"M 70.66875 140.788125 \nL 405.547064 140.788125 \n\" style=\"fill:none;stroke:#b0b0b0;stroke-linecap:square;stroke-width:0.8;\"/>\n     </g>\n     <g id=\"line2d_30\">\n      <g>\n       <use style=\"stroke:#000000;stroke-width:0.8;\" x=\"70.66875\" xlink:href=\"#m828f9456c6\" y=\"140.788125\"/>\n      </g>\n     </g>\n     <g id=\"text_16\">\n      <!-- finance -->\n      <g transform=\"translate(26.915625 144.587344)scale(0.1 -0.1)\">\n       <defs>\n        <path d=\"M 37.109375 75.984375 \nL 37.109375 68.5 \nL 28.515625 68.5 \nQ 23.6875 68.5 21.796875 66.546875 \nQ 19.921875 64.59375 19.921875 59.515625 \nL 19.921875 54.6875 \nL 34.71875 54.6875 \nL 34.71875 47.703125 \nL 19.921875 47.703125 \nL 19.921875 0 \nL 10.890625 0 \nL 10.890625 47.703125 \nL 2.296875 47.703125 \nL 2.296875 54.6875 \nL 10.890625 54.6875 \nL 10.890625 58.5 \nQ 10.890625 67.625 15.140625 71.796875 \nQ 19.390625 75.984375 28.609375 75.984375 \nz\n\" id=\"DejaVuSans-102\"/>\n       </defs>\n       <use xlink:href=\"#DejaVuSans-102\"/>\n       <use x=\"35.205078\" xlink:href=\"#DejaVuSans-105\"/>\n       <use x=\"62.988281\" xlink:href=\"#DejaVuSans-110\"/>\n       <use x=\"126.367188\" xlink:href=\"#DejaVuSans-97\"/>\n       <use x=\"187.646484\" xlink:href=\"#DejaVuSans-110\"/>\n       <use x=\"251.025391\" xlink:href=\"#DejaVuSans-99\"/>\n       <use x=\"306.005859\" xlink:href=\"#DejaVuSans-101\"/>\n      </g>\n     </g>\n    </g>\n    <g id=\"ytick_7\">\n     <g id=\"line2d_31\">\n      <path clip-path=\"url(#pdc08364ac7)\" d=\"M 70.66875 162.328125 \nL 405.547064 162.328125 \n\" style=\"fill:none;stroke:#b0b0b0;stroke-linecap:square;stroke-width:0.8;\"/>\n     </g>\n     <g id=\"line2d_32\">\n      <g>\n       <use style=\"stroke:#000000;stroke-width:0.8;\" x=\"70.66875\" xlink:href=\"#m828f9456c6\" y=\"162.328125\"/>\n      </g>\n     </g>\n     <g id=\"text_17\">\n      <!-- marijuana -->\n      <g transform=\"translate(13.201563 166.127344)scale(0.1 -0.1)\">\n       <defs>\n        <path d=\"M 9.421875 54.6875 \nL 18.40625 54.6875 \nL 18.40625 -0.984375 \nQ 18.40625 -11.421875 14.421875 -16.109375 \nQ 10.453125 -20.796875 1.609375 -20.796875 \nL -1.8125 -20.796875 \nL -1.8125 -13.1875 \nL 0.59375 -13.1875 \nQ 5.71875 -13.1875 7.5625 -10.8125 \nQ 9.421875 -8.453125 9.421875 -0.984375 \nz\nM 9.421875 75.984375 \nL 18.40625 75.984375 \nL 18.40625 64.59375 \nL 9.421875 64.59375 \nz\n\" id=\"DejaVuSans-106\"/>\n       </defs>\n       <use xlink:href=\"#DejaVuSans-109\"/>\n       <use x=\"97.412109\" xlink:href=\"#DejaVuSans-97\"/>\n       <use x=\"158.691406\" xlink:href=\"#DejaVuSans-114\"/>\n       <use x=\"199.804688\" xlink:href=\"#DejaVuSans-105\"/>\n       <use x=\"227.587891\" xlink:href=\"#DejaVuSans-106\"/>\n       <use x=\"255.371094\" xlink:href=\"#DejaVuSans-117\"/>\n       <use x=\"318.75\" xlink:href=\"#DejaVuSans-97\"/>\n       <use x=\"380.029297\" xlink:href=\"#DejaVuSans-110\"/>\n       <use x=\"443.408203\" xlink:href=\"#DejaVuSans-97\"/>\n      </g>\n     </g>\n    </g>\n    <g id=\"ytick_8\">\n     <g id=\"line2d_33\">\n      <path clip-path=\"url(#pdc08364ac7)\" d=\"M 70.66875 183.868125 \nL 405.547064 183.868125 \n\" style=\"fill:none;stroke:#b0b0b0;stroke-linecap:square;stroke-width:0.8;\"/>\n     </g>\n     <g id=\"line2d_34\">\n      <g>\n       <use style=\"stroke:#000000;stroke-width:0.8;\" x=\"70.66875\" xlink:href=\"#m828f9456c6\" y=\"183.868125\"/>\n      </g>\n     </g>\n     <g id=\"text_18\">\n      <!-- money -->\n      <g transform=\"translate(29.4 187.667344)scale(0.1 -0.1)\">\n       <use xlink:href=\"#DejaVuSans-109\"/>\n       <use x=\"97.412109\" xlink:href=\"#DejaVuSans-111\"/>\n       <use x=\"158.59375\" xlink:href=\"#DejaVuSans-110\"/>\n       <use x=\"221.972656\" xlink:href=\"#DejaVuSans-101\"/>\n       <use x=\"283.496094\" xlink:href=\"#DejaVuSans-121\"/>\n      </g>\n     </g>\n    </g>\n    <g id=\"ytick_9\">\n     <g id=\"line2d_35\">\n      <path clip-path=\"url(#pdc08364ac7)\" d=\"M 70.66875 205.408125 \nL 405.547064 205.408125 \n\" style=\"fill:none;stroke:#b0b0b0;stroke-linecap:square;stroke-width:0.8;\"/>\n     </g>\n     <g id=\"line2d_36\">\n      <g>\n       <use style=\"stroke:#000000;stroke-width:0.8;\" x=\"70.66875\" xlink:href=\"#m828f9456c6\" y=\"205.408125\"/>\n      </g>\n     </g>\n     <g id=\"text_19\">\n      <!-- carbon -->\n      <g transform=\"translate(29.126562 209.207344)scale(0.1 -0.1)\">\n       <use xlink:href=\"#DejaVuSans-99\"/>\n       <use x=\"54.980469\" xlink:href=\"#DejaVuSans-97\"/>\n       <use x=\"116.259766\" xlink:href=\"#DejaVuSans-114\"/>\n       <use x=\"157.373047\" xlink:href=\"#DejaVuSans-98\"/>\n       <use x=\"220.849609\" xlink:href=\"#DejaVuSans-111\"/>\n       <use x=\"282.03125\" xlink:href=\"#DejaVuSans-110\"/>\n      </g>\n     </g>\n    </g>\n    <g id=\"ytick_10\">\n     <g id=\"line2d_37\">\n      <path clip-path=\"url(#pdc08364ac7)\" d=\"M 70.66875 226.948125 \nL 405.547064 226.948125 \n\" style=\"fill:none;stroke:#b0b0b0;stroke-linecap:square;stroke-width:0.8;\"/>\n     </g>\n     <g id=\"line2d_38\">\n      <g>\n       <use style=\"stroke:#000000;stroke-width:0.8;\" x=\"70.66875\" xlink:href=\"#m828f9456c6\" y=\"226.948125\"/>\n      </g>\n     </g>\n     <g id=\"text_20\">\n      <!-- tax -->\n      <g transform=\"translate(47.701563 230.747344)scale(0.1 -0.1)\">\n       <defs>\n        <path d=\"M 54.890625 54.6875 \nL 35.109375 28.078125 \nL 55.90625 0 \nL 45.3125 0 \nL 29.390625 21.484375 \nL 13.484375 0 \nL 2.875 0 \nL 24.125 28.609375 \nL 4.6875 54.6875 \nL 15.28125 54.6875 \nL 29.78125 35.203125 \nL 44.28125 54.6875 \nz\n\" id=\"DejaVuSans-120\"/>\n       </defs>\n       <use xlink:href=\"#DejaVuSans-116\"/>\n       <use x=\"39.208984\" xlink:href=\"#DejaVuSans-97\"/>\n       <use x=\"100.488281\" xlink:href=\"#DejaVuSans-120\"/>\n      </g>\n     </g>\n    </g>\n   </g>\n   <g id=\"line2d_39\">\n    <path clip-path=\"url(#pdc08364ac7)\" d=\"M 286.534558 237.718125 \nL 286.534558 22.318125 \n\" style=\"fill:none;stroke:#1f77b4;stroke-linecap:square;stroke-width:1.5;\"/>\n   </g>\n   <g id=\"patch_3\">\n    <path d=\"M 70.66875 237.718125 \nL 70.66875 22.318125 \n\" style=\"fill:none;stroke:#000000;stroke-linecap:square;stroke-linejoin:miter;stroke-width:0.8;\"/>\n   </g>\n   <g id=\"patch_4\">\n    <path d=\"M 405.547064 237.718125 \nL 405.547064 22.318125 \n\" style=\"fill:none;stroke:#000000;stroke-linecap:square;stroke-linejoin:miter;stroke-width:0.8;\"/>\n   </g>\n   <g id=\"patch_5\">\n    <path d=\"M 70.66875 237.718125 \nL 405.547064 237.718125 \n\" style=\"fill:none;stroke:#000000;stroke-linecap:square;stroke-linejoin:miter;stroke-width:0.8;\"/>\n   </g>\n   <g id=\"patch_6\">\n    <path d=\"M 70.66875 22.318125 \nL 405.547064 22.318125 \n\" style=\"fill:none;stroke:#000000;stroke-linecap:square;stroke-linejoin:miter;stroke-width:0.8;\"/>\n   </g>\n   <g id=\"PathCollection_1\">\n    <defs>\n     <path d=\"M 0 2 \nC 0.530406 2 1.03916 1.789267 1.414214 1.414214 \nC 1.789267 1.03916 2 0.530406 2 0 \nC 2 -0.530406 1.789267 -1.03916 1.414214 -1.414214 \nC 1.03916 -1.789267 0.530406 -2 0 -2 \nC -0.530406 -2 -1.03916 -1.789267 -1.414214 -1.414214 \nC -1.789267 -1.03916 -2 -0.530406 -2 0 \nC -2 0.530406 -1.789267 1.03916 -1.414214 1.414214 \nC -1.03916 1.789267 -0.530406 2 0 2 \nz\n\" id=\"m742b363466\"/>\n    </defs>\n    <g clip-path=\"url(#pdc08364ac7)\">\n     <use x=\"390.325323\" xlink:href=\"#m742b363466\" y=\"33.088125\"/>\n    </g>\n   </g>\n   <g id=\"PathCollection_2\">\n    <g clip-path=\"url(#pdc08364ac7)\">\n     <use x=\"387.013662\" xlink:href=\"#m742b363466\" y=\"54.628125\"/>\n    </g>\n   </g>\n   <g id=\"PathCollection_3\">\n    <g clip-path=\"url(#pdc08364ac7)\">\n     <use x=\"370.292855\" xlink:href=\"#m742b363466\" y=\"76.168125\"/>\n    </g>\n   </g>\n   <g id=\"PathCollection_4\">\n    <g clip-path=\"url(#pdc08364ac7)\">\n     <use x=\"368.140253\" xlink:href=\"#m742b363466\" y=\"97.708125\"/>\n    </g>\n   </g>\n   <g id=\"PathCollection_5\">\n    <g clip-path=\"url(#pdc08364ac7)\">\n     <use x=\"366.37885\" xlink:href=\"#m742b363466\" y=\"119.248125\"/>\n    </g>\n   </g>\n   <g id=\"PathCollection_6\">\n    <g clip-path=\"url(#pdc08364ac7)\">\n     <use x=\"217.938755\" xlink:href=\"#m742b363466\" y=\"140.788125\"/>\n    </g>\n   </g>\n   <g id=\"PathCollection_7\">\n    <g clip-path=\"url(#pdc08364ac7)\">\n     <use x=\"217.177253\" xlink:href=\"#m742b363466\" y=\"162.328125\"/>\n    </g>\n   </g>\n   <g id=\"PathCollection_8\">\n    <g clip-path=\"url(#pdc08364ac7)\">\n     <use x=\"210.911704\" xlink:href=\"#m742b363466\" y=\"183.868125\"/>\n    </g>\n   </g>\n   <g id=\"PathCollection_9\">\n    <g clip-path=\"url(#pdc08364ac7)\">\n     <use x=\"189.757454\" xlink:href=\"#m742b363466\" y=\"205.408125\"/>\n    </g>\n   </g>\n   <g id=\"PathCollection_10\">\n    <g clip-path=\"url(#pdc08364ac7)\">\n     <use x=\"85.890492\" xlink:href=\"#m742b363466\" y=\"226.948125\"/>\n    </g>\n   </g>\n   <g id=\"text_21\">\n    <!-- Difference of Proportions -->\n    <g transform=\"translate(163.409782 16.318125)scale(0.12 -0.12)\">\n     <defs>\n      <path d=\"M 19.671875 64.796875 \nL 19.671875 8.109375 \nL 31.59375 8.109375 \nQ 46.6875 8.109375 53.6875 14.9375 \nQ 60.6875 21.78125 60.6875 36.53125 \nQ 60.6875 51.171875 53.6875 57.984375 \nQ 46.6875 64.796875 31.59375 64.796875 \nz\nM 9.8125 72.90625 \nL 30.078125 72.90625 \nQ 51.265625 72.90625 61.171875 64.09375 \nQ 71.09375 55.28125 71.09375 36.53125 \nQ 71.09375 17.671875 61.125 8.828125 \nQ 51.171875 0 30.078125 0 \nL 9.8125 0 \nz\n\" id=\"DejaVuSans-68\"/>\n      <path d=\"M 18.109375 8.203125 \nL 18.109375 -20.796875 \nL 9.078125 -20.796875 \nL 9.078125 54.6875 \nL 18.109375 54.6875 \nL 18.109375 46.390625 \nQ 20.953125 51.265625 25.265625 53.625 \nQ 29.59375 56 35.59375 56 \nQ 45.5625 56 51.78125 48.09375 \nQ 58.015625 40.1875 58.015625 27.296875 \nQ 58.015625 14.40625 51.78125 6.484375 \nQ 45.5625 -1.421875 35.59375 -1.421875 \nQ 29.59375 -1.421875 25.265625 0.953125 \nQ 20.953125 3.328125 18.109375 8.203125 \nz\nM 48.6875 27.296875 \nQ 48.6875 37.203125 44.609375 42.84375 \nQ 40.53125 48.484375 33.40625 48.484375 \nQ 26.265625 48.484375 22.1875 42.84375 \nQ 18.109375 37.203125 18.109375 27.296875 \nQ 18.109375 17.390625 22.1875 11.75 \nQ 26.265625 6.109375 33.40625 6.109375 \nQ 40.53125 6.109375 44.609375 11.75 \nQ 48.6875 17.390625 48.6875 27.296875 \nz\n\" id=\"DejaVuSans-112\"/>\n     </defs>\n     <use xlink:href=\"#DejaVuSans-68\"/>\n     <use x=\"77.001953\" xlink:href=\"#DejaVuSans-105\"/>\n     <use x=\"104.785156\" xlink:href=\"#DejaVuSans-102\"/>\n     <use x=\"139.990234\" xlink:href=\"#DejaVuSans-102\"/>\n     <use x=\"175.195312\" xlink:href=\"#DejaVuSans-101\"/>\n     <use x=\"236.71875\" xlink:href=\"#DejaVuSans-114\"/>\n     <use x=\"275.582031\" xlink:href=\"#DejaVuSans-101\"/>\n     <use x=\"337.105469\" xlink:href=\"#DejaVuSans-110\"/>\n     <use x=\"400.484375\" xlink:href=\"#DejaVuSans-99\"/>\n     <use x=\"455.464844\" xlink:href=\"#DejaVuSans-101\"/>\n     <use x=\"516.988281\" xlink:href=\"#DejaVuSans-32\"/>\n     <use x=\"548.775391\" xlink:href=\"#DejaVuSans-111\"/>\n     <use x=\"609.957031\" xlink:href=\"#DejaVuSans-102\"/>\n     <use x=\"645.162109\" xlink:href=\"#DejaVuSans-32\"/>\n     <use x=\"676.949219\" xlink:href=\"#DejaVuSans-80\"/>\n     <use x=\"735.501953\" xlink:href=\"#DejaVuSans-114\"/>\n     <use x=\"774.365234\" xlink:href=\"#DejaVuSans-111\"/>\n     <use x=\"835.546875\" xlink:href=\"#DejaVuSans-112\"/>\n     <use x=\"899.023438\" xlink:href=\"#DejaVuSans-111\"/>\n     <use x=\"960.205078\" xlink:href=\"#DejaVuSans-114\"/>\n     <use x=\"1001.318359\" xlink:href=\"#DejaVuSans-116\"/>\n     <use x=\"1040.527344\" xlink:href=\"#DejaVuSans-105\"/>\n     <use x=\"1068.310547\" xlink:href=\"#DejaVuSans-111\"/>\n     <use x=\"1129.492188\" xlink:href=\"#DejaVuSans-110\"/>\n     <use x=\"1192.871094\" xlink:href=\"#DejaVuSans-115\"/>\n    </g>\n   </g>\n  </g>\n </g>\n <defs>\n  <clipPath id=\"pdc08364ac7\">\n   <rect height=\"215.4\" width=\"334.878314\" x=\"70.66875\" y=\"22.318125\"/>\n  </clipPath>\n </defs>\n</svg>\n",
      "image/png": "[encoded data removed]"
     },
     "metadata": {
      "needs_background": "light"
     }
    }
   ],
   "source": [
    "#_04\n",
    "\n",
    "fig, ax = plt.subplots(figsize=(6, 4))\n",
    "sns.swarmplot(x=l_to_c, y=l_to_c.index, color='black', size=4)\n",
    "ax.axvline(0) # add a vertical line at 0\n",
    "plt.grid()  # add a grid to the plot to make it easier to interpret\n",
    "\n",
    "# keep in mind which party a negative value is associated with, based on which vector was the subtracted one...\n",
    "ax.set(xlabel=r'($\\longleftarrow$ Conservative Party)        (Liberal Party $\\longrightarrow$)',\n",
    "       ylabel='',\n",
    "       title='Difference of Proportions')\n",
    "plt.tight_layout()\n",
    "plt.show()\n",
    "\n",
    "most_negative_word = \"tax\"\n",
    "\n",
    "# Store the result in the assignment variable\n",
    "_04 = most_negative_word.lower() # do not change this line"
   ]
  },
  {
   "cell_type": "markdown",
   "metadata": {},
   "source": [
    "## Question 5:\n",
    "<div class=\"alert alert-block alert-info\">  \n",
    "In this next batch of problems, you'll expand on the concept of the previous ones by creating TF-IDF vectors for each party and comparing them using cosine similarity. Start by creating a TF-IDF dataframe, again with the speaker party column added. Print the terms with the top TF-IDF scores after sorting by each party.\n",
    "</div>\n",
    "<div class=\"alert alert-block alert-success\">\n",
    "Initialize the TfidfVectorizer and implement it in a very similar way to the CountVectorizer above. At the end, print the first 10 TF-IDF scores, sorted highest to lowest, for each party. This will also print the scores for those terms for the other parties. Use the printed results to determine the word that has the highest TF-IDF score for both the Conservatives and the NDP. Submit that word. \n",
    "</div>"
   ]
  },
  {
   "cell_type": "code",
   "execution_count": 40,
   "metadata": {},
   "outputs": [
    {
     "output_type": "stream",
     "name": "stdout",
     "text": [
      "Conservative\n\n                Conservative      Liberal         NDP\ngovernment        612.766144   605.686241  378.281650\nliberal           604.191515    45.732873  316.698287\nprime_minister    576.627080   165.372651  148.978050\nmember            510.649889  1147.495845  351.390594\nminister          492.940096   307.205110  198.161614\ncanadian          480.473150   725.078807  211.268680\nmr_speaker        416.440461   676.142872  212.396807\ncanada            354.557269   596.601503  200.818014\nhouse             329.491148   594.287250  205.343807\ntax               315.546608   181.556995   85.963043\n\n\nLiberal\n\n            Conservative      Liberal         NDP\nmember        510.649889  1147.495845  351.390594\nhon           232.841901   849.279761  172.181104\ncanadian      480.473150   725.078807  211.268680\nmr_speaker    416.440461   676.142872  212.396807\ngovernment    612.766144   605.686241  378.281650\ncanada        354.557269   596.601503  200.818014\nmotion        228.619772   594.344500  199.279000\nhouse         329.491148   594.287250  205.343807\norder         166.514457   460.348530  109.573666\nquestion      297.855541   457.149947  218.970015\n\n\nNDP\n\n            Conservative      Liberal         NDP\ngovernment    612.766144   605.686241  378.281650\nmember        510.649889  1147.495845  351.390594\nliberal       604.191515    45.732873  316.698287\npeople        308.889213   325.443247  234.739890\nquestion      297.855541   457.149947  218.970015\nmr_speaker    416.440461   676.142872  212.396807\ncanadian      480.473150   725.078807  211.268680\nhouse         329.491148   594.287250  205.343807\ncanada        354.557269   596.601503  200.818014\nmotion        228.619772   594.344500  199.279000\n\n\n"
     ]
    }
   ],
   "source": [
    "#_05\n",
    "\n",
    "tfidf_vectorizer = TfidfVectorizer(stop_words=\"english\",\n",
    "                                   lowercase=True,\n",
    "                                   max_features = 300,       # not best practice, we do this here in case of resource limitations\n",
    "                                   strip_accents='ascii')\n",
    "\n",
    "tfidf_matrix = tfidf_vectorizer.fit_transform(speeches) # Fit the model and transform the data\n",
    "\n",
    "vocabulary = tfidf_vectorizer.get_feature_names() # Get the feature names\n",
    "\n",
    "tfidf_df = pd.DataFrame.sparse.from_spmatrix(tfidf_matrix)\n",
    "tfidf_df.columns = vocabulary # use vocabulary as column names\n",
    "\n",
    "party_scores = tfidf_df.copy()\n",
    "party_scores['speakerparty'] = df['speakerparty']\n",
    "\n",
    "party_scores = party_scores.groupby('speakerparty').agg('sum')\n",
    "party_scores = party_scores.T\n",
    "\n",
    "for party in party_scores.columns:\n",
    "    party_scores.sort_values(by = party, ascending = False, inplace = True)\n",
    "    print(party + '\\n')\n",
    "    print(party_scores.head(10))\n",
    "    print('\\n')\n",
    "\n",
    "con_and_ndp_word = \"government\"\n",
    "    \n",
    "# Store the result in the assignment variable\n",
    "_05 = con_and_ndp_word.lower() # do not change this line"
   ]
  },
  {
   "cell_type": "markdown",
   "metadata": {},
   "source": [
    "#### Question 6:\n",
    "<div class=\"alert alert-block alert-info\">  \n",
    "Next you will calculate pair-wise cosine similarity to compare the vectors for each speaker in the data. You may have noticed that the TF-IDF scores from the last problem wound up being on different scales for each party, with the Liberals having the highest scores because they have the most speeches. This time, you will re-normalize the TF-IDF scores after adding them together, which also makes cosine similarity faster to calculate.\n",
    "</div>\n",
    "<div class=\"alert alert-block alert-success\">\n",
    "Create a new dataframe from the tfidf_matrix that you generated above. Be sure to add speakernames as usual, then filter the dataframe to keep only speeches by speakers with 50 or more speeches. Group the speeches by speaker, aggregating the TF-IDF vectors for each of their speeches, then use sklearn's Normalizer() to prepare the vectors for cosine similarity. Create a cosine similarity matrix by calculating the dot product of the normalized speaker score matrix and its transpose. Submit the matrix.\n",
    "</div>"
   ]
  },
  {
   "cell_type": "code",
   "execution_count": 41,
   "metadata": {},
   "outputs": [],
   "source": [
    "#_06\n",
    "\n",
    "speaker_scores = pd.DataFrame.sparse.from_spmatrix(tfidf_matrix)   # create a new dataframe from the tfidf_matrix\n",
    "speaker_scores = speaker_scores.sparse.to_dense()                  # turn the sparse matrix into a dense one for faster aggregation runtime\n",
    "speaker_scores['speakername'] = df['speakername']                  # add the speaker names to the new dataframe\n",
    "\n",
    "# keep only speakers with 50 or more speeches to speed things up and to have vectors with a bit more term diversity\n",
    "speaker_scores = speaker_scores.groupby('speakername').filter(lambda x: len(x) >= 50)    \n",
    "speaker_scores = speaker_scores.groupby('speakername').agg('sum')        # group the speech vectors by speaker and aggregate their values\n",
    "\n",
    "normalize = Normalizer()\n",
    "speaker_scores_n = normalize.fit_transform(speaker_scores)      # Fit the model and transform the data\n",
    "\n",
    "speaker_matrix = speaker_scores_n @ speaker_scores_n.T         # calculate the dot product of the matrix for pairwise cosine similarities\n",
    "\n",
    "#print(speaker_matrix)\n",
    "\n",
    "# Store the result in the assignment variable\n",
    "_06 = speaker_matrix # do not change this variable name"
   ]
  },
  {
   "cell_type": "markdown",
   "metadata": {},
   "source": [
    "## Question 7:\n",
    "<div class=\"alert alert-block alert-info\">  \n",
    "Identify the 5 most similar speakers and the 5 least similar speakers in the data.\n",
    "</div>\n",
    "<div class=\"alert alert-block alert-success\">\n",
    "Fill the diagonal and lower triangle of the cosine similarity matrix with np.nan values. Create a new dataframe from the matrix and make the speaker names both the index and the column names. Use df.stack() to make the dataframe 1-dimensional for a relatively simple way of finding the largest and smallest values in the whole matrix. Print the 5 highest and 5 lowest cosine comparisons. These will be the members of parliament whose speech topic composition is either most or least similar. Submit the five speaker pairs with the highest cosine similarity.\n",
    "</div>"
   ]
  },
  {
   "cell_type": "code",
   "execution_count": 42,
   "metadata": {},
   "outputs": [
    {
     "output_type": "stream",
     "name": "stdout",
     "text": [
      "speakername    speakername  \nAnthony Rota   Bruce Stanton    0.972805\nBruce Stanton  Carol Hughes     0.970352\nAnthony Rota   Geoff Regan      0.960031\nBruce Stanton  Geoff Regan      0.955091\nAnthony Rota   Carol Hughes     0.954149\ndtype: float64\n\n\nspeakername          speakername        \nBruce Stanton        Diane Lebouthillier    0.061171\nAnthony Rota         Diane Lebouthillier    0.061913\nDiane Lebouthillier  Geoff Regan            0.064653\nCarol Hughes         Diane Lebouthillier    0.084909\nAnthony Rota         Shannon Stubbs         0.097516\ndtype: float64\n"
     ]
    }
   ],
   "source": [
    "#_07\n",
    "\n",
    "np.fill_diagonal(speaker_matrix, np.nan) # Fill the speaker matrix's diagonal with np.nan values\n",
    "speaker_matrix[np.tril_indices(speaker_matrix.shape[0], -1)] = np.nan\n",
    "speaker_df = pd.DataFrame(speaker_matrix)\n",
    "\n",
    "speaker_df.index = speaker_scores.index\n",
    "speaker_df.columns = speaker_scores.index\n",
    "\n",
    "print(speaker_df.stack().nlargest(5)) # Stack the largest 5\n",
    "print('\\n')\n",
    "print(speaker_df.stack().nsmallest(5)) # stack the smallest 5\n",
    "\n",
    "# Store the result in the assignment variable\n",
    "_07 = speaker_df.stack().nlargest(5).to_numpy() # do not change this line"
   ]
  },
  {
   "cell_type": "markdown",
   "metadata": {},
   "source": [
    "## Question 8:\n",
    "<div class=\"alert alert-block alert-info\">  \n",
    "Print the top-weighted terms for two speakers who were among the most similar to each other, as well as two who were the least similar to each other.\n",
    "</div>\n",
    "<div class=\"alert alert-block alert-success\">\n",
    "Using the normalized speaker_scores matrix, create a dataframe with speaker names as the index and feature names (terms) as the column names. Use .loc to select the row for the speaker scores you will be examining, and print the 10 most important terms along with their TF-IDF scores. Submit the word that both Anthony Rota and Bruce Stanton's share as their most important. \n",
    "</div>"
   ]
  },
  {
   "cell_type": "code",
   "execution_count": 43,
   "metadata": {},
   "outputs": [
    {
     "output_type": "stream",
     "name": "stdout",
     "text": [
      "Top #1 \n\nhon                        0.631506\nmember                     0.507499\nmotion                     0.313986\nhouse                      0.243696\nquestion                   0.232467\norder                      0.208535\nparliamentary_secretary    0.133605\ndebate                     0.123542\nminute                     0.108590\ntime                       0.085777\nName: Anthony Rota, dtype: float64\n\n\nTop #2 \n\nhon         0.520456\nmember      0.469871\nmotion      0.423443\nhouse       0.299478\nquestion    0.243002\norder       0.237924\nminute      0.166476\ndebate      0.165673\ntime        0.144593\ncomment     0.120602\nName: Bruce Stanton, dtype: float64\n\n\nBottom #1 \n\ntax            0.689294\ngovernment     0.229226\nagency         0.228775\nmr_speaker     0.204819\nyear           0.194165\nrevenue        0.185593\ncredit         0.166145\ncanadian       0.160648\ncriminal       0.157982\ninformation    0.128651\nName: Diane Lebouthillier, dtype: float64\n\n\nBottom #2 \n\nhon         0.590953\nmember      0.499868\nmotion      0.470802\norder       0.265434\nhouse       0.246767\nquestion    0.108058\nleader      0.055442\nminister    0.053251\ndebate      0.048586\nchair       0.048301\nName: Geoff Regan, dtype: float64\n\n\n"
     ]
    }
   ],
   "source": [
    "#_08\n",
    "\n",
    "speaker_scores_df = pd.DataFrame(speaker_scores_n)\n",
    "speaker_scores_df.index = speaker_scores.index\n",
    "speaker_scores_df.columns = vocabulary  # use vocabulary as column names\n",
    "\n",
    "top1 = speaker_scores_df.loc['Anthony Rota'].nlargest(10)\n",
    "top2 = speaker_scores_df.loc['Bruce Stanton'].nlargest(10)\n",
    "\n",
    "bot1 = speaker_scores_df.loc['Diane Lebouthillier'].nlargest(10)\n",
    "bot2 = speaker_scores_df.loc['Geoff Regan'].nlargest(10)\n",
    "\n",
    "print('Top #1 \\n')\n",
    "print(top1)\n",
    "print('\\n')\n",
    "print('Top #2 \\n')\n",
    "print(top2)\n",
    "print('\\n')\n",
    "print('Bottom #1 \\n')\n",
    "print(bot1)\n",
    "print('\\n')\n",
    "print('Bottom #2 \\n')\n",
    "print(bot2)\n",
    "print('\\n')\n",
    "\n",
    "rota_stanton_most_important_word = \"hon\"\n",
    "\n",
    "# Store the result in the assignment variable\n",
    "_08 = rota_stanton_most_important_word.lower() # do not change this line"
   ]
  },
  {
   "cell_type": "code",
   "execution_count": 44,
   "metadata": {},
   "outputs": [],
   "source": [
    "## FINALIZE ASSIGNMENT\n",
    "\n",
    "import pickle as pkl\n",
    "\n",
    "module = 7\n",
    "\n",
    "response_dict = {\n",
    "    \"student_id\": student_id,\n",
    "    \"grad_student\": \"EA_undergrad\",\n",
    "    \"module\": module,\n",
    "    \"responses\": [\n",
    "        _01,\n",
    "        _02,\n",
    "        _03,\n",
    "        _04,\n",
    "        _05,\n",
    "        _06,\n",
    "        _07,\n",
    "        _08,\n",
    "    ],\n",
    "    \"code_cells\": In\n",
    "}\n",
    "\n",
    "module_string = f\"module_{response_dict['module']}\"\n",
    "filename = f\"{module_string}__student_{student_id}.pkl\"\n",
    "\n",
    "with open(f\"./{filename}\", 'wb') as stream:\n",
    "    pkl.dump(response_dict, stream)"
   ]
  }
 ],
 "metadata": {
  "kernelspec": {
   "display_name": "Python 3 (social_comp_sci)",
   "language": "python",
   "name": "python3"
  },
  "language_info": {
   "codemirror_mode": {
    "name": "ipython",
    "version": 3
   },
   "file_extension": ".py",
   "mimetype": "text/x-python",
   "name": "python",
   "nbconvert_exporter": "python",
   "pygments_lexer": "ipython3",
   "version": "3.6.12-final"
  }
 },
 "nbformat": 4,
 "nbformat_minor": 4
}