{
 "cells": [
  {
   "cell_type": "markdown",
   "metadata": {},
   "source": [
    "<br><br><font color=\"gray\">DOING COMPUTATIONAL SOCIAL SCIENCE<br>MODULE 11 <strong>PROBLEM SETS</strong></font>\n",
    "\n",
    "# <font color=\"#49699E\" size=40>SUPERVISED LEARNING AND NEURAL NETWORKS</font>\n",
    "This module notebook assignment is organized into two parts. \n",
    "\n",
    "- **[PART A](#SECAEP) (Accompanying Chapter 21, \"Supervised Learning with Regression and Distance-Based Models\")**\n",
    "    - [Exercises and Practice Problems](#SECAEP) (All students)\n",
    "- **[PART B](#SECBEP) (Accompanying Chapter 22, \"Supervised Learning with Tree-Based Models\"**)\n",
    "    - [Exercises and Practice Problems](#SECBEP) (All students)"
   ]
  },
  {
   "cell_type": "markdown",
   "metadata": {},
   "source": [
    "# What You Need to Know Before Getting Started\n",
    "\n",
    "- **You can consult any resources you want when completing these exercises and problems**. Just as it is in the \"real world:\" if you can't figure out how to do something, look it up. My recommendation is that you check the relevant parts of the assigned reading or search for inspiration on [https://stackoverflow.com](https://stackoverflow.com).\n",
    "- **Each problem is worth 1 point**. All problems are equally weighted.\n",
    "- **The information you need for each problem set is provided in the blue and green cells.** General instructions / the problem set preamble are in the blue cells, and instructions for specific problems are in the green cells. **You have to execute all of the code in the problem set, but you are only responsible for entering code into the code cells that immediately follow a green cell**. You will also recognize those cells because they will be incomplete. You need to replace each `____` with the code that will make the cell execute properly.\n",
    "- **The comments in the problem cells contain clues indicating what the following line of code is supposed to do.** Use these comments as a guide when filling in the blanks. \n",
    "- **Each problem cell stores one object named according to the problem (e.g. _09)**. These are not important for you, but we use them to help grade your work efficiently, so **do not delete them or change their names**. If you do, you will lose marks.\n",
    "- **You can ask for help**. If you run into problems, you can reach out to John (john.mclevey@uwaterloo.ca) or Pierson (pbrowne@uwaterloo.ca) for help. You can ask a friend for help if you like, regardless of whether they are enrolled in the course.\n",
    "\n",
    "Finally, remember that you do not need to \"master\" this content before moving on to other course materials, as what is introduced here is reinforced throughout the rest of the course. You will have plenty of time to practice and cement your new knowledge and skills."
   ]
  },
  {
   "cell_type": "markdown",
   "metadata": {},
   "source": [
    "# How to Submit Your (Pickled) Assignment! \n",
    "\n",
    "Since we've had to rethink the way we deliver, collect, and evaluate these problem sets, we want to be very clear about what you need to do to properly submit this module notebook assignment. Please read the following explanation of our process so that you understand how this works, and what you need to do.\n",
    "\n",
    "At the very end of this notebook, there is a code cell that will compile all of your answers to every problem in the assignment and save them as a 'pickle' file (`.pkl`) in the current working directory. You can execute that cell as many times as you like. Each time you run it, it will overwrite the old pickle with your updated answers. **Once you've ensured that everything in the notebook is complete and finished to your satisfaction, it's up to you to get the pickle that you just created and upload it to the appropriate Learn dropbox for this module.** The file you are looking for will not exist until you run the cells at the end of the notebook. Once it has been created, it will follow this naming convention: \n",
    "\n",
    "> `module_[number]__student_[your_student_number].pkl`\n",
    "\n",
    "To be very clear, **you need to submit the pickle to Learn**. You do not need to upload the Jupyter Notebook as initially planned. **Just the pickle!**"
   ]
  },
  {
   "cell_type": "markdown",
   "metadata": {},
   "source": [
    "## Make Sure Everything is Good to Go\n",
    "\n",
    "It's generally a good idea to do a 'fresh' run of your entire notebook before you submit your assignment to make sure that everything is working as it should be. You can use the button with the 'Fast-Forward' arrows in the Jupyter toolbar above to restart the kernel (resetting everything to initial conditions) and running every code cell in the notebook, in order. You can also select 'Restart and Run All' from the Kernel dropdown menu. If the entire notebook runs without throwing any errors, you should be good to go!\n",
    "\n",
    "If you're running into issues, make sure that you haven't changed any of the 'answer' variable names we provided you with (e.g., we asked you to store your answer to the first question in a variable called `_01`). If you change an answer's variable name or don't store your answer in that variable, the project won't finalize properly and you won't get proper credit for your work. The same goes for the `student_id` metadata variable we ask you to complete immediately below; if any of those are missing, haven't been filled in properly, or have been renamed, issues may arise during the grading process and you will not receive proper credit. So make sure you enter your student information, and don't delete or change the names of the variables that store your answers to each problem!"
   ]
  },
  {
   "cell_type": "markdown",
   "metadata": {},
   "source": [
    "## IMPORTANT: ADD YOUR STUDENT ID NUMBER\n",
    "\n",
    "<div class=\"alert alert-block alert-danger\">\n",
    "To evaluate your work, we need you to provide your student number. In the cell below, <strong>replace '12345678' with your student number</strong>. The student_id' variable needs to be an integer, so <strong>do not wrap it in quotes.</strong>\n",
    "</div>"
   ]
  },
  {
   "cell_type": "code",
   "execution_count": 54,
   "metadata": {},
   "outputs": [],
   "source": [
    "# Your UWaterloo student ID number\n",
    "student_id = 20674880"
   ]
  },
  {
   "cell_type": "markdown",
   "metadata": {},
   "source": [
    "## Package Imports"
   ]
  },
  {
   "cell_type": "code",
   "execution_count": 56,
   "metadata": {},
   "outputs": [],
   "source": [
    "import pandas as pd \n",
    "\n",
    "import numpy as np\n",
    "from numpy.random import seed\n",
    "\n",
    "import matplotlib.pyplot as plt\n",
    "import matplotlib as mpl\n",
    "import seaborn as sns\n",
    "\n",
    "from sklearn import preprocessing\n",
    "from sklearn.model_selection import train_test_split, cross_val_score, ShuffleSplit\n",
    "from sklearn.linear_model import LinearRegression, Ridge, Lasso, LogisticRegression\n",
    "from sklearn.tree import DecisionTreeClassifier\n",
    "from sklearn.ensemble import BaggingClassifier, RandomForestClassifier, GradientBoostingClassifier\n",
    "from sklearn.preprocessing import LabelEncoder, LabelBinarizer\n",
    "from sklearn.neighbors import KNeighborsClassifier\n",
    "from sklearn.feature_extraction.text import TfidfVectorizer\n",
    "\n",
    "from pprint import pprint\n",
    "\n",
    "seed(42)\n",
    "\n"
   ]
  },
  {
   "cell_type": "markdown",
   "metadata": {},
   "source": [
    "## Dataset Columns"
   ]
  },
  {
   "cell_type": "code",
   "execution_count": 58,
   "metadata": {},
   "outputs": [],
   "source": [
    "x_columns = [\n",
    "\n",
    "    # Religion and Morale\n",
    "    'v54', # Religious services? - 1=More than Once Per Week, 7=Never\n",
    "    'v149', # Do you justify: claiming state benefits? - 1=Never, 10=Always\n",
    "    'v150', # Do you justify: cheating on tax? - 1=Never, 10=Always \n",
    "    'v151', # Do you justify: taking soft drugs? - 1=Never, 10=Always \n",
    "    'v152', # Do you justify: taking a bribe? - 1=Never, 10=Always \n",
    "    'v153', # Do you justify: homosexuality? - 1=Never, 10=Always \n",
    "    'v154', # Do you justify: abortion? - 1=Never, 10=Always \n",
    "    'v155', # Do you justify: divorce? - 1=Never, 10=Always \n",
    "    'v156', # Do you justify: euthanasia? - 1=Never, 10=Always \n",
    "    'v157', # Do you justify: suicide? - 1=Never, 10=Always \n",
    "    'v158', # Do you justify: having casual sex? - 1=Never, 10=Always \n",
    "    'v159', # Do you justify: public transit fare evasion? - 1=Never, 10=Always \n",
    "    'v160', # Do you justify: prostitution? - 1=Never, 10=Always \n",
    "    'v161', # Do you justify: artificial insemination? - 1=Never, 10=Always \n",
    "    'v162', # Do you justify: political violence? - 1=Never, 10=Always \n",
    "    'v163', # Do you justify: death penalty? - 1=Never, 10=Always \n",
    "\n",
    "    # Politics and Society\n",
    "    'v97', # Interested in Politics? - 1=Interested, 4=Not Interested\n",
    "    'v121', # How much confidence in Parliament? - 1=High, 4=Low\n",
    "    'v126', # How much confidence in Health Care System? - 1=High, 4=Low\n",
    "    'v142', # Importance of Democracy - 1=Unimportant, 10=Important\n",
    "    'v143', # Democracy in own country - 1=Undemocratic, 10=Democratic\n",
    "    'v145', # Political System: Strong Leader - 1=Good, 4=Bad\n",
    "\n",
    "    # National Identity\n",
    "    'v170', # How proud are you of being a citizen? - 1=Proud, 4=Not Proud\n",
    "    'v184', # Immigrants: impact on development of country - 1=Bad, 5=Good\n",
    "    'v185', # Immigrants: take away jobs from Nation - 1=Take, 10=Do Not Take\n",
    "    'v198', # European Union Enlargement - 1=Should Go Further, 10=Too Far Already\n",
    "]\n",
    "\n",
    "y_columns = [\n",
    "    # Overview\n",
    "    'country',\n",
    "    \n",
    "    # Socio-demographics\n",
    "    '', # Year of Birth by respondent \n",
    "    'v261_ppp', # Household Monthly Net Income, PPP-Corrected\n",
    "]"
   ]
  },
  {
   "cell_type": "markdown",
   "metadata": {},
   "source": [
    "# <font color=\"#49699E\">PART A | CHAPTER 21</font>\n",
    "<a id=\"SECAEP\"></a>"
   ]
  },
  {
   "cell_type": "markdown",
   "metadata": {},
   "source": [
    "## Question 1:\n",
    "<div class=\"alert alert-block alert-info\">  \n",
    "For each of the parts in this assignment, we're going to closely mirror our progression through the various models in each of the corresponding chapters. It should come as no surprise, then, that we're going to start with some plain-old run-of-the-mill Ordinary Least Squares regression (approaching it from a Machine Learning perspective, of course). We'll start by seeing how effectively we can predict someone's year of birth using variables from the survey on the topics of Religion, Morality, Politics, Society, and National Identity.\n",
    "</div>\n",
    "<div class=\"alert alert-block alert-success\">\n",
    "Perform the following steps, in order:\n",
    "<ol>\n",
    "    <li> Load the EVS dataset (provided) \n",
    "    <li> Create a feature matrix containing all of the columns in <code>x_columns</code> and a vector containing the outcome variable, year of birth\n",
    "    <li> Perform a shuffled train-test split of the feature matrix and outcome vector random state of 42\n",
    "    <li> Create an instance of the <code>ShuffleSplit</code> class, with 5 splits, a test size of 0.2, and a random state of 42\n",
    "    <li> Using the <code>ShuffleSplit</code> instance, perform cross-validated linear regression on your training data \n",
    "    <li> Report the mean score from your cross-validated linear regression\n",
    "</ol>\n",
    "</div>"
   ]
  },
  {
   "cell_type": "code",
   "execution_count": 60,
   "metadata": {},
   "outputs": [
    {
     "output_type": "stream",
     "name": "stdout",
     "text": [
      "[0.15590317 0.16307872 0.15629859 0.15649739 0.15806234]\nMean: 0.15796804282590388\n"
     ]
    }
   ],
   "source": [
    "#_01\n",
    "\n",
    "# Load 'evs_module_11.csv'\n",
    "df = pd.read_csv(\"/Users/Diwya/workspace/INTEG440/dcss_modules/MODULE11/data/evs_module_11.csv\")\n",
    "\n",
    "# Create a feature matrix using all of the column names in `x_columns`\n",
    "X = df[x_columns] \n",
    "\n",
    "# Create the outcome variable\n",
    "y = df['v226']\n",
    "\n",
    "\n",
    "# Perform a train-test split\n",
    "X_train, X_test, y_train, y_test = train_test_split(X, y, shuffle=True, random_state=42)\n",
    "\n",
    "# Create an instance of the shufflesplit class\n",
    "shuffsplit = ShuffleSplit(n_splits=5, test_size=0.2, random_state=42)\n",
    "\n",
    "# Retreieve the scores from a cross-validated linear regression\n",
    "olscv_score = cross_val_score(LinearRegression(), X_train, y_train, cv=shuffsplit)\n",
    "print(olscv_score)\n",
    "print(f\"Mean: {olscv_score.mean()}\")\n",
    "\n",
    "# DO NOT ALTER ANYTHING BELOW THIS LINE \n",
    "_01 = round(olscv_score.mean(), 2) "
   ]
  },
  {
   "cell_type": "markdown",
   "metadata": {},
   "source": [
    "## Question 2:\n",
    "<div class=\"alert alert-block alert-info\">  \n",
    "From the above results, it should be pretty clear that our OLS did <b>not</b> perform well. It's possible that this under-performance is as a result of overfitting. If so, we can use either ridge or lasso reguarlization to help dig our model out of its overfitting problem. It's also possible, however, that our model just isn't any good, and regularization won't be of much use. \n",
    "</div>\n",
    "<div class=\"alert alert-block alert-success\">\n",
    "Using 10 different alpha settings ranging from 0.01 to 2, perform 10 cross-validated ridge and lasso regressions (10 each). When performing the cross-vaildations, use the same instance of the <code>ShuffleSplit</code> class from the previous question. Plot the resulting cross-validated R2 scores from the 10 ridge and 10 lasso models and compare them to the baseline R2 score from the unregularized OLS model. Examine the plot to determine if the model from Q1 is <b>significantly</b> overfitting the data. Submit your answer as a <b>BOOLEAN</b> value. If your answer is anything other than a boolean value, you will recieve no credit for this question. \n",
    "</div>"
   ]
  },
  {
   "cell_type": "code",
   "execution_count": 61,
   "metadata": {},
   "outputs": [
    {
     "output_type": "display_data",
     "data": {
      "text/plain": "<Figure size 432x288 with 1 Axes>",
      "image/svg+xml": "<?xml version=\"1.0\" encoding=\"utf-8\" standalone=\"no\"?>\n<!DOCTYPE svg PUBLIC \"-//W3C//DTD SVG 1.1//EN\"\n  \"http://www.w3.org/Graphics/SVG/1.1/DTD/svg11.dtd\">\n<!-- Created with matplotlib (https://matplotlib.org/) -->\n<svg height=\"265.88429pt\" version=\"1.1\" viewBox=\"0 0 398.50625 265.88429\" width=\"398.50625pt\" xmlns=\"http://www.w3.org/2000/svg\" xmlns:xlink=\"http://www.w3.org/1999/xlink\">\n <metadata>\n  <rdf:RDF xmlns:cc=\"http://creativecommons.org/ns#\" xmlns:dc=\"http://purl.org/dc/elements/1.1/\" xmlns:rdf=\"http://www.w3.org/1999/02/22-rdf-syntax-ns#\">\n   <cc:Work>\n    <dc:type rdf:resource=\"http://purl.org/dc/dcmitype/StillImage\"/>\n    <dc:date>2021-04-07T22:41:05.694683</dc:date>\n    <dc:format>image/svg+xml</dc:format>\n    <dc:creator>\n     <cc:Agent>\n      <dc:title>Matplotlib v3.3.2, https://matplotlib.org/</dc:title>\n     </cc:Agent>\n    </dc:creator>\n   </cc:Work>\n  </rdf:RDF>\n </metadata>\n <defs>\n  <style type=\"text/css\">*{stroke-linecap:butt;stroke-linejoin:round;}</style>\n </defs>\n <g id=\"figure_1\">\n  <g id=\"patch_1\">\n   <path d=\"M 0 265.88429 \nL 398.50625 265.88429 \nL 398.50625 0 \nL 0 0 \nz\n\" style=\"fill:none;\"/>\n  </g>\n  <g id=\"axes_1\">\n   <g id=\"patch_2\">\n    <path d=\"M 56.50625 228.32804 \nL 391.30625 228.32804 \nL 391.30625 10.88804 \nL 56.50625 10.88804 \nz\n\" style=\"fill:#ffffff;\"/>\n   </g>\n   <g id=\"matplotlib.axis_1\">\n    <g id=\"xtick_1\">\n     <g id=\"line2d_1\">\n      <defs>\n       <path d=\"M 0 0 \nL 0 3.5 \n\" id=\"m4f7bae4a5e\" style=\"stroke:#000000;stroke-width:0.8;\"/>\n      </defs>\n      <g>\n       <use style=\"stroke:#000000;stroke-width:0.8;\" x=\"70.194966\" xlink:href=\"#m4f7bae4a5e\" y=\"228.32804\"/>\n      </g>\n     </g>\n     <g id=\"text_1\">\n      <!-- 0.00 -->\n      <g transform=\"translate(59.062154 242.926478)scale(0.1 -0.1)\">\n       <defs>\n        <path d=\"M 31.78125 66.40625 \nQ 24.171875 66.40625 20.328125 58.90625 \nQ 16.5 51.421875 16.5 36.375 \nQ 16.5 21.390625 20.328125 13.890625 \nQ 24.171875 6.390625 31.78125 6.390625 \nQ 39.453125 6.390625 43.28125 13.890625 \nQ 47.125 21.390625 47.125 36.375 \nQ 47.125 51.421875 43.28125 58.90625 \nQ 39.453125 66.40625 31.78125 66.40625 \nz\nM 31.78125 74.21875 \nQ 44.046875 74.21875 50.515625 64.515625 \nQ 56.984375 54.828125 56.984375 36.375 \nQ 56.984375 17.96875 50.515625 8.265625 \nQ 44.046875 -1.421875 31.78125 -1.421875 \nQ 19.53125 -1.421875 13.0625 8.265625 \nQ 6.59375 17.96875 6.59375 36.375 \nQ 6.59375 54.828125 13.0625 64.515625 \nQ 19.53125 74.21875 31.78125 74.21875 \nz\n\" id=\"DejaVuSans-48\"/>\n        <path d=\"M 10.6875 12.40625 \nL 21 12.40625 \nL 21 0 \nL 10.6875 0 \nz\n\" id=\"DejaVuSans-46\"/>\n       </defs>\n       <use xlink:href=\"#DejaVuSans-48\"/>\n       <use x=\"63.623047\" xlink:href=\"#DejaVuSans-46\"/>\n       <use x=\"95.410156\" xlink:href=\"#DejaVuSans-48\"/>\n       <use x=\"159.033203\" xlink:href=\"#DejaVuSans-48\"/>\n      </g>\n     </g>\n    </g>\n    <g id=\"xtick_2\">\n     <g id=\"line2d_2\">\n      <g>\n       <use style=\"stroke:#000000;stroke-width:0.8;\" x=\"108.431604\" xlink:href=\"#m4f7bae4a5e\" y=\"228.32804\"/>\n      </g>\n     </g>\n     <g id=\"text_2\">\n      <!-- 0.25 -->\n      <g transform=\"translate(97.298792 242.926478)scale(0.1 -0.1)\">\n       <defs>\n        <path d=\"M 19.1875 8.296875 \nL 53.609375 8.296875 \nL 53.609375 0 \nL 7.328125 0 \nL 7.328125 8.296875 \nQ 12.9375 14.109375 22.625 23.890625 \nQ 32.328125 33.6875 34.8125 36.53125 \nQ 39.546875 41.84375 41.421875 45.53125 \nQ 43.3125 49.21875 43.3125 52.78125 \nQ 43.3125 58.59375 39.234375 62.25 \nQ 35.15625 65.921875 28.609375 65.921875 \nQ 23.96875 65.921875 18.8125 64.3125 \nQ 13.671875 62.703125 7.8125 59.421875 \nL 7.8125 69.390625 \nQ 13.765625 71.78125 18.9375 73 \nQ 24.125 74.21875 28.421875 74.21875 \nQ 39.75 74.21875 46.484375 68.546875 \nQ 53.21875 62.890625 53.21875 53.421875 \nQ 53.21875 48.921875 51.53125 44.890625 \nQ 49.859375 40.875 45.40625 35.40625 \nQ 44.1875 33.984375 37.640625 27.21875 \nQ 31.109375 20.453125 19.1875 8.296875 \nz\n\" id=\"DejaVuSans-50\"/>\n        <path d=\"M 10.796875 72.90625 \nL 49.515625 72.90625 \nL 49.515625 64.59375 \nL 19.828125 64.59375 \nL 19.828125 46.734375 \nQ 21.96875 47.46875 24.109375 47.828125 \nQ 26.265625 48.1875 28.421875 48.1875 \nQ 40.625 48.1875 47.75 41.5 \nQ 54.890625 34.8125 54.890625 23.390625 \nQ 54.890625 11.625 47.5625 5.09375 \nQ 40.234375 -1.421875 26.90625 -1.421875 \nQ 22.3125 -1.421875 17.546875 -0.640625 \nQ 12.796875 0.140625 7.71875 1.703125 \nL 7.71875 11.625 \nQ 12.109375 9.234375 16.796875 8.0625 \nQ 21.484375 6.890625 26.703125 6.890625 \nQ 35.15625 6.890625 40.078125 11.328125 \nQ 45.015625 15.765625 45.015625 23.390625 \nQ 45.015625 31 40.078125 35.4375 \nQ 35.15625 39.890625 26.703125 39.890625 \nQ 22.75 39.890625 18.8125 39.015625 \nQ 14.890625 38.140625 10.796875 36.28125 \nz\n\" id=\"DejaVuSans-53\"/>\n       </defs>\n       <use xlink:href=\"#DejaVuSans-48\"/>\n       <use x=\"63.623047\" xlink:href=\"#DejaVuSans-46\"/>\n       <use x=\"95.410156\" xlink:href=\"#DejaVuSans-50\"/>\n       <use x=\"159.033203\" xlink:href=\"#DejaVuSans-53\"/>\n      </g>\n     </g>\n    </g>\n    <g id=\"xtick_3\">\n     <g id=\"line2d_3\">\n      <g>\n       <use style=\"stroke:#000000;stroke-width:0.8;\" x=\"146.668242\" xlink:href=\"#m4f7bae4a5e\" y=\"228.32804\"/>\n      </g>\n     </g>\n     <g id=\"text_3\">\n      <!-- 0.50 -->\n      <g transform=\"translate(135.535429 242.926478)scale(0.1 -0.1)\">\n       <use xlink:href=\"#DejaVuSans-48\"/>\n       <use x=\"63.623047\" xlink:href=\"#DejaVuSans-46\"/>\n       <use x=\"95.410156\" xlink:href=\"#DejaVuSans-53\"/>\n       <use x=\"159.033203\" xlink:href=\"#DejaVuSans-48\"/>\n      </g>\n     </g>\n    </g>\n    <g id=\"xtick_4\">\n     <g id=\"line2d_4\">\n      <g>\n       <use style=\"stroke:#000000;stroke-width:0.8;\" x=\"184.90488\" xlink:href=\"#m4f7bae4a5e\" y=\"228.32804\"/>\n      </g>\n     </g>\n     <g id=\"text_4\">\n      <!-- 0.75 -->\n      <g transform=\"translate(173.772067 242.926478)scale(0.1 -0.1)\">\n       <defs>\n        <path d=\"M 8.203125 72.90625 \nL 55.078125 72.90625 \nL 55.078125 68.703125 \nL 28.609375 0 \nL 18.3125 0 \nL 43.21875 64.59375 \nL 8.203125 64.59375 \nz\n\" id=\"DejaVuSans-55\"/>\n       </defs>\n       <use xlink:href=\"#DejaVuSans-48\"/>\n       <use x=\"63.623047\" xlink:href=\"#DejaVuSans-46\"/>\n       <use x=\"95.410156\" xlink:href=\"#DejaVuSans-55\"/>\n       <use x=\"159.033203\" xlink:href=\"#DejaVuSans-53\"/>\n      </g>\n     </g>\n    </g>\n    <g id=\"xtick_5\">\n     <g id=\"line2d_5\">\n      <g>\n       <use style=\"stroke:#000000;stroke-width:0.8;\" x=\"223.141517\" xlink:href=\"#m4f7bae4a5e\" y=\"228.32804\"/>\n      </g>\n     </g>\n     <g id=\"text_5\">\n      <!-- 1.00 -->\n      <g transform=\"translate(212.008705 242.926478)scale(0.1 -0.1)\">\n       <defs>\n        <path d=\"M 12.40625 8.296875 \nL 28.515625 8.296875 \nL 28.515625 63.921875 \nL 10.984375 60.40625 \nL 10.984375 69.390625 \nL 28.421875 72.90625 \nL 38.28125 72.90625 \nL 38.28125 8.296875 \nL 54.390625 8.296875 \nL 54.390625 0 \nL 12.40625 0 \nz\n\" id=\"DejaVuSans-49\"/>\n       </defs>\n       <use xlink:href=\"#DejaVuSans-49\"/>\n       <use x=\"63.623047\" xlink:href=\"#DejaVuSans-46\"/>\n       <use x=\"95.410156\" xlink:href=\"#DejaVuSans-48\"/>\n       <use x=\"159.033203\" xlink:href=\"#DejaVuSans-48\"/>\n      </g>\n     </g>\n    </g>\n    <g id=\"xtick_6\">\n     <g id=\"line2d_6\">\n      <g>\n       <use style=\"stroke:#000000;stroke-width:0.8;\" x=\"261.378155\" xlink:href=\"#m4f7bae4a5e\" y=\"228.32804\"/>\n      </g>\n     </g>\n     <g id=\"text_6\">\n      <!-- 1.25 -->\n      <g transform=\"translate(250.245342 242.926478)scale(0.1 -0.1)\">\n       <use xlink:href=\"#DejaVuSans-49\"/>\n       <use x=\"63.623047\" xlink:href=\"#DejaVuSans-46\"/>\n       <use x=\"95.410156\" xlink:href=\"#DejaVuSans-50\"/>\n       <use x=\"159.033203\" xlink:href=\"#DejaVuSans-53\"/>\n      </g>\n     </g>\n    </g>\n    <g id=\"xtick_7\">\n     <g id=\"line2d_7\">\n      <g>\n       <use style=\"stroke:#000000;stroke-width:0.8;\" x=\"299.614793\" xlink:href=\"#m4f7bae4a5e\" y=\"228.32804\"/>\n      </g>\n     </g>\n     <g id=\"text_7\">\n      <!-- 1.50 -->\n      <g transform=\"translate(288.48198 242.926478)scale(0.1 -0.1)\">\n       <use xlink:href=\"#DejaVuSans-49\"/>\n       <use x=\"63.623047\" xlink:href=\"#DejaVuSans-46\"/>\n       <use x=\"95.410156\" xlink:href=\"#DejaVuSans-53\"/>\n       <use x=\"159.033203\" xlink:href=\"#DejaVuSans-48\"/>\n      </g>\n     </g>\n    </g>\n    <g id=\"xtick_8\">\n     <g id=\"line2d_8\">\n      <g>\n       <use style=\"stroke:#000000;stroke-width:0.8;\" x=\"337.85143\" xlink:href=\"#m4f7bae4a5e\" y=\"228.32804\"/>\n      </g>\n     </g>\n     <g id=\"text_8\">\n      <!-- 1.75 -->\n      <g transform=\"translate(326.718618 242.926478)scale(0.1 -0.1)\">\n       <use xlink:href=\"#DejaVuSans-49\"/>\n       <use x=\"63.623047\" xlink:href=\"#DejaVuSans-46\"/>\n       <use x=\"95.410156\" xlink:href=\"#DejaVuSans-55\"/>\n       <use x=\"159.033203\" xlink:href=\"#DejaVuSans-53\"/>\n      </g>\n     </g>\n    </g>\n    <g id=\"xtick_9\">\n     <g id=\"line2d_9\">\n      <g>\n       <use style=\"stroke:#000000;stroke-width:0.8;\" x=\"376.088068\" xlink:href=\"#m4f7bae4a5e\" y=\"228.32804\"/>\n      </g>\n     </g>\n     <g id=\"text_9\">\n      <!-- 2.00 -->\n      <g transform=\"translate(364.955256 242.926478)scale(0.1 -0.1)\">\n       <use xlink:href=\"#DejaVuSans-50\"/>\n       <use x=\"63.623047\" xlink:href=\"#DejaVuSans-46\"/>\n       <use x=\"95.410156\" xlink:href=\"#DejaVuSans-48\"/>\n       <use x=\"159.033203\" xlink:href=\"#DejaVuSans-48\"/>\n      </g>\n     </g>\n    </g>\n    <g id=\"text_10\">\n     <!-- alpha values for Ridge and Lasso Regressions -->\n     <g transform=\"translate(109.609375 256.604603)scale(0.1 -0.1)\">\n      <defs>\n       <path d=\"M 34.28125 27.484375 \nQ 23.390625 27.484375 19.1875 25 \nQ 14.984375 22.515625 14.984375 16.5 \nQ 14.984375 11.71875 18.140625 8.90625 \nQ 21.296875 6.109375 26.703125 6.109375 \nQ 34.1875 6.109375 38.703125 11.40625 \nQ 43.21875 16.703125 43.21875 25.484375 \nL 43.21875 27.484375 \nz\nM 52.203125 31.203125 \nL 52.203125 0 \nL 43.21875 0 \nL 43.21875 8.296875 \nQ 40.140625 3.328125 35.546875 0.953125 \nQ 30.953125 -1.421875 24.3125 -1.421875 \nQ 15.921875 -1.421875 10.953125 3.296875 \nQ 6 8.015625 6 15.921875 \nQ 6 25.140625 12.171875 29.828125 \nQ 18.359375 34.515625 30.609375 34.515625 \nL 43.21875 34.515625 \nL 43.21875 35.40625 \nQ 43.21875 41.609375 39.140625 45 \nQ 35.0625 48.390625 27.6875 48.390625 \nQ 23 48.390625 18.546875 47.265625 \nQ 14.109375 46.140625 10.015625 43.890625 \nL 10.015625 52.203125 \nQ 14.9375 54.109375 19.578125 55.046875 \nQ 24.21875 56 28.609375 56 \nQ 40.484375 56 46.34375 49.84375 \nQ 52.203125 43.703125 52.203125 31.203125 \nz\n\" id=\"DejaVuSans-97\"/>\n       <path d=\"M 9.421875 75.984375 \nL 18.40625 75.984375 \nL 18.40625 0 \nL 9.421875 0 \nz\n\" id=\"DejaVuSans-108\"/>\n       <path d=\"M 18.109375 8.203125 \nL 18.109375 -20.796875 \nL 9.078125 -20.796875 \nL 9.078125 54.6875 \nL 18.109375 54.6875 \nL 18.109375 46.390625 \nQ 20.953125 51.265625 25.265625 53.625 \nQ 29.59375 56 35.59375 56 \nQ 45.5625 56 51.78125 48.09375 \nQ 58.015625 40.1875 58.015625 27.296875 \nQ 58.015625 14.40625 51.78125 6.484375 \nQ 45.5625 -1.421875 35.59375 -1.421875 \nQ 29.59375 -1.421875 25.265625 0.953125 \nQ 20.953125 3.328125 18.109375 8.203125 \nz\nM 48.6875 27.296875 \nQ 48.6875 37.203125 44.609375 42.84375 \nQ 40.53125 48.484375 33.40625 48.484375 \nQ 26.265625 48.484375 22.1875 42.84375 \nQ 18.109375 37.203125 18.109375 27.296875 \nQ 18.109375 17.390625 22.1875 11.75 \nQ 26.265625 6.109375 33.40625 6.109375 \nQ 40.53125 6.109375 44.609375 11.75 \nQ 48.6875 17.390625 48.6875 27.296875 \nz\n\" id=\"DejaVuSans-112\"/>\n       <path d=\"M 54.890625 33.015625 \nL 54.890625 0 \nL 45.90625 0 \nL 45.90625 32.71875 \nQ 45.90625 40.484375 42.875 44.328125 \nQ 39.84375 48.1875 33.796875 48.1875 \nQ 26.515625 48.1875 22.3125 43.546875 \nQ 18.109375 38.921875 18.109375 30.90625 \nL 18.109375 0 \nL 9.078125 0 \nL 9.078125 75.984375 \nL 18.109375 75.984375 \nL 18.109375 46.1875 \nQ 21.34375 51.125 25.703125 53.5625 \nQ 30.078125 56 35.796875 56 \nQ 45.21875 56 50.046875 50.171875 \nQ 54.890625 44.34375 54.890625 33.015625 \nz\n\" id=\"DejaVuSans-104\"/>\n       <path id=\"DejaVuSans-32\"/>\n       <path d=\"M 2.984375 54.6875 \nL 12.5 54.6875 \nL 29.59375 8.796875 \nL 46.6875 54.6875 \nL 56.203125 54.6875 \nL 35.6875 0 \nL 23.484375 0 \nz\n\" id=\"DejaVuSans-118\"/>\n       <path d=\"M 8.5 21.578125 \nL 8.5 54.6875 \nL 17.484375 54.6875 \nL 17.484375 21.921875 \nQ 17.484375 14.15625 20.5 10.265625 \nQ 23.53125 6.390625 29.59375 6.390625 \nQ 36.859375 6.390625 41.078125 11.03125 \nQ 45.3125 15.671875 45.3125 23.6875 \nL 45.3125 54.6875 \nL 54.296875 54.6875 \nL 54.296875 0 \nL 45.3125 0 \nL 45.3125 8.40625 \nQ 42.046875 3.421875 37.71875 1 \nQ 33.40625 -1.421875 27.6875 -1.421875 \nQ 18.265625 -1.421875 13.375 4.4375 \nQ 8.5 10.296875 8.5 21.578125 \nz\nM 31.109375 56 \nz\n\" id=\"DejaVuSans-117\"/>\n       <path d=\"M 56.203125 29.59375 \nL 56.203125 25.203125 \nL 14.890625 25.203125 \nQ 15.484375 15.921875 20.484375 11.0625 \nQ 25.484375 6.203125 34.421875 6.203125 \nQ 39.59375 6.203125 44.453125 7.46875 \nQ 49.3125 8.734375 54.109375 11.28125 \nL 54.109375 2.78125 \nQ 49.265625 0.734375 44.1875 -0.34375 \nQ 39.109375 -1.421875 33.890625 -1.421875 \nQ 20.796875 -1.421875 13.15625 6.1875 \nQ 5.515625 13.8125 5.515625 26.8125 \nQ 5.515625 40.234375 12.765625 48.109375 \nQ 20.015625 56 32.328125 56 \nQ 43.359375 56 49.78125 48.890625 \nQ 56.203125 41.796875 56.203125 29.59375 \nz\nM 47.21875 32.234375 \nQ 47.125 39.59375 43.09375 43.984375 \nQ 39.0625 48.390625 32.421875 48.390625 \nQ 24.90625 48.390625 20.390625 44.140625 \nQ 15.875 39.890625 15.1875 32.171875 \nz\n\" id=\"DejaVuSans-101\"/>\n       <path d=\"M 44.28125 53.078125 \nL 44.28125 44.578125 \nQ 40.484375 46.53125 36.375 47.5 \nQ 32.28125 48.484375 27.875 48.484375 \nQ 21.1875 48.484375 17.84375 46.4375 \nQ 14.5 44.390625 14.5 40.28125 \nQ 14.5 37.15625 16.890625 35.375 \nQ 19.28125 33.59375 26.515625 31.984375 \nL 29.59375 31.296875 \nQ 39.15625 29.25 43.1875 25.515625 \nQ 47.21875 21.78125 47.21875 15.09375 \nQ 47.21875 7.46875 41.1875 3.015625 \nQ 35.15625 -1.421875 24.609375 -1.421875 \nQ 20.21875 -1.421875 15.453125 -0.5625 \nQ 10.6875 0.296875 5.421875 2 \nL 5.421875 11.28125 \nQ 10.40625 8.6875 15.234375 7.390625 \nQ 20.0625 6.109375 24.8125 6.109375 \nQ 31.15625 6.109375 34.5625 8.28125 \nQ 37.984375 10.453125 37.984375 14.40625 \nQ 37.984375 18.0625 35.515625 20.015625 \nQ 33.0625 21.96875 24.703125 23.78125 \nL 21.578125 24.515625 \nQ 13.234375 26.265625 9.515625 29.90625 \nQ 5.8125 33.546875 5.8125 39.890625 \nQ 5.8125 47.609375 11.28125 51.796875 \nQ 16.75 56 26.8125 56 \nQ 31.78125 56 36.171875 55.265625 \nQ 40.578125 54.546875 44.28125 53.078125 \nz\n\" id=\"DejaVuSans-115\"/>\n       <path d=\"M 37.109375 75.984375 \nL 37.109375 68.5 \nL 28.515625 68.5 \nQ 23.6875 68.5 21.796875 66.546875 \nQ 19.921875 64.59375 19.921875 59.515625 \nL 19.921875 54.6875 \nL 34.71875 54.6875 \nL 34.71875 47.703125 \nL 19.921875 47.703125 \nL 19.921875 0 \nL 10.890625 0 \nL 10.890625 47.703125 \nL 2.296875 47.703125 \nL 2.296875 54.6875 \nL 10.890625 54.6875 \nL 10.890625 58.5 \nQ 10.890625 67.625 15.140625 71.796875 \nQ 19.390625 75.984375 28.609375 75.984375 \nz\n\" id=\"DejaVuSans-102\"/>\n       <path d=\"M 30.609375 48.390625 \nQ 23.390625 48.390625 19.1875 42.75 \nQ 14.984375 37.109375 14.984375 27.296875 \nQ 14.984375 17.484375 19.15625 11.84375 \nQ 23.34375 6.203125 30.609375 6.203125 \nQ 37.796875 6.203125 41.984375 11.859375 \nQ 46.1875 17.53125 46.1875 27.296875 \nQ 46.1875 37.015625 41.984375 42.703125 \nQ 37.796875 48.390625 30.609375 48.390625 \nz\nM 30.609375 56 \nQ 42.328125 56 49.015625 48.375 \nQ 55.71875 40.765625 55.71875 27.296875 \nQ 55.71875 13.875 49.015625 6.21875 \nQ 42.328125 -1.421875 30.609375 -1.421875 \nQ 18.84375 -1.421875 12.171875 6.21875 \nQ 5.515625 13.875 5.515625 27.296875 \nQ 5.515625 40.765625 12.171875 48.375 \nQ 18.84375 56 30.609375 56 \nz\n\" id=\"DejaVuSans-111\"/>\n       <path d=\"M 41.109375 46.296875 \nQ 39.59375 47.171875 37.8125 47.578125 \nQ 36.03125 48 33.890625 48 \nQ 26.265625 48 22.1875 43.046875 \nQ 18.109375 38.09375 18.109375 28.8125 \nL 18.109375 0 \nL 9.078125 0 \nL 9.078125 54.6875 \nL 18.109375 54.6875 \nL 18.109375 46.1875 \nQ 20.953125 51.171875 25.484375 53.578125 \nQ 30.03125 56 36.53125 56 \nQ 37.453125 56 38.578125 55.875 \nQ 39.703125 55.765625 41.0625 55.515625 \nz\n\" id=\"DejaVuSans-114\"/>\n       <path d=\"M 44.390625 34.1875 \nQ 47.5625 33.109375 50.5625 29.59375 \nQ 53.5625 26.078125 56.59375 19.921875 \nL 66.609375 0 \nL 56 0 \nL 46.6875 18.703125 \nQ 43.0625 26.03125 39.671875 28.421875 \nQ 36.28125 30.8125 30.421875 30.8125 \nL 19.671875 30.8125 \nL 19.671875 0 \nL 9.8125 0 \nL 9.8125 72.90625 \nL 32.078125 72.90625 \nQ 44.578125 72.90625 50.734375 67.671875 \nQ 56.890625 62.453125 56.890625 51.90625 \nQ 56.890625 45.015625 53.6875 40.46875 \nQ 50.484375 35.9375 44.390625 34.1875 \nz\nM 19.671875 64.796875 \nL 19.671875 38.921875 \nL 32.078125 38.921875 \nQ 39.203125 38.921875 42.84375 42.21875 \nQ 46.484375 45.515625 46.484375 51.90625 \nQ 46.484375 58.296875 42.84375 61.546875 \nQ 39.203125 64.796875 32.078125 64.796875 \nz\n\" id=\"DejaVuSans-82\"/>\n       <path d=\"M 9.421875 54.6875 \nL 18.40625 54.6875 \nL 18.40625 0 \nL 9.421875 0 \nz\nM 9.421875 75.984375 \nL 18.40625 75.984375 \nL 18.40625 64.59375 \nL 9.421875 64.59375 \nz\n\" id=\"DejaVuSans-105\"/>\n       <path d=\"M 45.40625 46.390625 \nL 45.40625 75.984375 \nL 54.390625 75.984375 \nL 54.390625 0 \nL 45.40625 0 \nL 45.40625 8.203125 \nQ 42.578125 3.328125 38.25 0.953125 \nQ 33.9375 -1.421875 27.875 -1.421875 \nQ 17.96875 -1.421875 11.734375 6.484375 \nQ 5.515625 14.40625 5.515625 27.296875 \nQ 5.515625 40.1875 11.734375 48.09375 \nQ 17.96875 56 27.875 56 \nQ 33.9375 56 38.25 53.625 \nQ 42.578125 51.265625 45.40625 46.390625 \nz\nM 14.796875 27.296875 \nQ 14.796875 17.390625 18.875 11.75 \nQ 22.953125 6.109375 30.078125 6.109375 \nQ 37.203125 6.109375 41.296875 11.75 \nQ 45.40625 17.390625 45.40625 27.296875 \nQ 45.40625 37.203125 41.296875 42.84375 \nQ 37.203125 48.484375 30.078125 48.484375 \nQ 22.953125 48.484375 18.875 42.84375 \nQ 14.796875 37.203125 14.796875 27.296875 \nz\n\" id=\"DejaVuSans-100\"/>\n       <path d=\"M 45.40625 27.984375 \nQ 45.40625 37.75 41.375 43.109375 \nQ 37.359375 48.484375 30.078125 48.484375 \nQ 22.859375 48.484375 18.828125 43.109375 \nQ 14.796875 37.75 14.796875 27.984375 \nQ 14.796875 18.265625 18.828125 12.890625 \nQ 22.859375 7.515625 30.078125 7.515625 \nQ 37.359375 7.515625 41.375 12.890625 \nQ 45.40625 18.265625 45.40625 27.984375 \nz\nM 54.390625 6.78125 \nQ 54.390625 -7.171875 48.1875 -13.984375 \nQ 42 -20.796875 29.203125 -20.796875 \nQ 24.46875 -20.796875 20.265625 -20.09375 \nQ 16.0625 -19.390625 12.109375 -17.921875 \nL 12.109375 -9.1875 \nQ 16.0625 -11.328125 19.921875 -12.34375 \nQ 23.78125 -13.375 27.78125 -13.375 \nQ 36.625 -13.375 41.015625 -8.765625 \nQ 45.40625 -4.15625 45.40625 5.171875 \nL 45.40625 9.625 \nQ 42.625 4.78125 38.28125 2.390625 \nQ 33.9375 0 27.875 0 \nQ 17.828125 0 11.671875 7.65625 \nQ 5.515625 15.328125 5.515625 27.984375 \nQ 5.515625 40.671875 11.671875 48.328125 \nQ 17.828125 56 27.875 56 \nQ 33.9375 56 38.28125 53.609375 \nQ 42.625 51.21875 45.40625 46.390625 \nL 45.40625 54.6875 \nL 54.390625 54.6875 \nz\n\" id=\"DejaVuSans-103\"/>\n       <path d=\"M 54.890625 33.015625 \nL 54.890625 0 \nL 45.90625 0 \nL 45.90625 32.71875 \nQ 45.90625 40.484375 42.875 44.328125 \nQ 39.84375 48.1875 33.796875 48.1875 \nQ 26.515625 48.1875 22.3125 43.546875 \nQ 18.109375 38.921875 18.109375 30.90625 \nL 18.109375 0 \nL 9.078125 0 \nL 9.078125 54.6875 \nL 18.109375 54.6875 \nL 18.109375 46.1875 \nQ 21.34375 51.125 25.703125 53.5625 \nQ 30.078125 56 35.796875 56 \nQ 45.21875 56 50.046875 50.171875 \nQ 54.890625 44.34375 54.890625 33.015625 \nz\n\" id=\"DejaVuSans-110\"/>\n       <path d=\"M 9.8125 72.90625 \nL 19.671875 72.90625 \nL 19.671875 8.296875 \nL 55.171875 8.296875 \nL 55.171875 0 \nL 9.8125 0 \nz\n\" id=\"DejaVuSans-76\"/>\n      </defs>\n      <use xlink:href=\"#DejaVuSans-97\"/>\n      <use x=\"61.279297\" xlink:href=\"#DejaVuSans-108\"/>\n      <use x=\"89.0625\" xlink:href=\"#DejaVuSans-112\"/>\n      <use x=\"152.539062\" xlink:href=\"#DejaVuSans-104\"/>\n      <use x=\"215.917969\" xlink:href=\"#DejaVuSans-97\"/>\n      <use x=\"277.197266\" xlink:href=\"#DejaVuSans-32\"/>\n      <use x=\"308.984375\" xlink:href=\"#DejaVuSans-118\"/>\n      <use x=\"368.164062\" xlink:href=\"#DejaVuSans-97\"/>\n      <use x=\"429.443359\" xlink:href=\"#DejaVuSans-108\"/>\n      <use x=\"457.226562\" xlink:href=\"#DejaVuSans-117\"/>\n      <use x=\"520.605469\" xlink:href=\"#DejaVuSans-101\"/>\n      <use x=\"582.128906\" xlink:href=\"#DejaVuSans-115\"/>\n      <use x=\"634.228516\" xlink:href=\"#DejaVuSans-32\"/>\n      <use x=\"666.015625\" xlink:href=\"#DejaVuSans-102\"/>\n      <use x=\"701.220703\" xlink:href=\"#DejaVuSans-111\"/>\n      <use x=\"762.402344\" xlink:href=\"#DejaVuSans-114\"/>\n      <use x=\"803.515625\" xlink:href=\"#DejaVuSans-32\"/>\n      <use x=\"835.302734\" xlink:href=\"#DejaVuSans-82\"/>\n      <use x=\"904.785156\" xlink:href=\"#DejaVuSans-105\"/>\n      <use x=\"932.568359\" xlink:href=\"#DejaVuSans-100\"/>\n      <use x=\"996.044922\" xlink:href=\"#DejaVuSans-103\"/>\n      <use x=\"1059.521484\" xlink:href=\"#DejaVuSans-101\"/>\n      <use x=\"1121.044922\" xlink:href=\"#DejaVuSans-32\"/>\n      <use x=\"1152.832031\" xlink:href=\"#DejaVuSans-97\"/>\n      <use x=\"1214.111328\" xlink:href=\"#DejaVuSans-110\"/>\n      <use x=\"1277.490234\" xlink:href=\"#DejaVuSans-100\"/>\n      <use x=\"1340.966797\" xlink:href=\"#DejaVuSans-32\"/>\n      <use x=\"1372.753906\" xlink:href=\"#DejaVuSans-76\"/>\n      <use x=\"1428.466797\" xlink:href=\"#DejaVuSans-97\"/>\n      <use x=\"1489.746094\" xlink:href=\"#DejaVuSans-115\"/>\n      <use x=\"1541.845703\" xlink:href=\"#DejaVuSans-115\"/>\n      <use x=\"1593.945312\" xlink:href=\"#DejaVuSans-111\"/>\n      <use x=\"1655.126953\" xlink:href=\"#DejaVuSans-32\"/>\n      <use x=\"1686.914062\" xlink:href=\"#DejaVuSans-82\"/>\n      <use x=\"1751.896484\" xlink:href=\"#DejaVuSans-101\"/>\n      <use x=\"1813.419922\" xlink:href=\"#DejaVuSans-103\"/>\n      <use x=\"1876.896484\" xlink:href=\"#DejaVuSans-114\"/>\n      <use x=\"1915.759766\" xlink:href=\"#DejaVuSans-101\"/>\n      <use x=\"1977.283203\" xlink:href=\"#DejaVuSans-115\"/>\n      <use x=\"2029.382812\" xlink:href=\"#DejaVuSans-115\"/>\n      <use x=\"2081.482422\" xlink:href=\"#DejaVuSans-105\"/>\n      <use x=\"2109.265625\" xlink:href=\"#DejaVuSans-111\"/>\n      <use x=\"2170.447266\" xlink:href=\"#DejaVuSans-110\"/>\n      <use x=\"2233.826172\" xlink:href=\"#DejaVuSans-115\"/>\n     </g>\n    </g>\n   </g>\n   <g id=\"matplotlib.axis_2\">\n    <g id=\"ytick_1\">\n     <g id=\"line2d_10\">\n      <defs>\n       <path d=\"M 0 0 \nL -3.5 0 \n\" id=\"me45bfc1ca3\" style=\"stroke:#000000;stroke-width:0.8;\"/>\n      </defs>\n      <g>\n       <use style=\"stroke:#000000;stroke-width:0.8;\" x=\"56.50625\" xlink:href=\"#me45bfc1ca3\" y=\"205.403446\"/>\n      </g>\n     </g>\n     <g id=\"text_11\">\n      <!-- 0.120 -->\n      <g transform=\"translate(20.878125 209.202665)scale(0.1 -0.1)\">\n       <use xlink:href=\"#DejaVuSans-48\"/>\n       <use x=\"63.623047\" xlink:href=\"#DejaVuSans-46\"/>\n       <use x=\"95.410156\" xlink:href=\"#DejaVuSans-49\"/>\n       <use x=\"159.033203\" xlink:href=\"#DejaVuSans-50\"/>\n       <use x=\"222.65625\" xlink:href=\"#DejaVuSans-48\"/>\n      </g>\n     </g>\n    </g>\n    <g id=\"ytick_2\">\n     <g id=\"line2d_11\">\n      <g>\n       <use style=\"stroke:#000000;stroke-width:0.8;\" x=\"56.50625\" xlink:href=\"#me45bfc1ca3\" y=\"181.102917\"/>\n      </g>\n     </g>\n     <g id=\"text_12\">\n      <!-- 0.125 -->\n      <g transform=\"translate(20.878125 184.902136)scale(0.1 -0.1)\">\n       <use xlink:href=\"#DejaVuSans-48\"/>\n       <use x=\"63.623047\" xlink:href=\"#DejaVuSans-46\"/>\n       <use x=\"95.410156\" xlink:href=\"#DejaVuSans-49\"/>\n       <use x=\"159.033203\" xlink:href=\"#DejaVuSans-50\"/>\n       <use x=\"222.65625\" xlink:href=\"#DejaVuSans-53\"/>\n      </g>\n     </g>\n    </g>\n    <g id=\"ytick_3\">\n     <g id=\"line2d_12\">\n      <g>\n       <use style=\"stroke:#000000;stroke-width:0.8;\" x=\"56.50625\" xlink:href=\"#me45bfc1ca3\" y=\"156.802389\"/>\n      </g>\n     </g>\n     <g id=\"text_13\">\n      <!-- 0.130 -->\n      <g transform=\"translate(20.878125 160.601608)scale(0.1 -0.1)\">\n       <defs>\n        <path d=\"M 40.578125 39.3125 \nQ 47.65625 37.796875 51.625 33 \nQ 55.609375 28.21875 55.609375 21.1875 \nQ 55.609375 10.40625 48.1875 4.484375 \nQ 40.765625 -1.421875 27.09375 -1.421875 \nQ 22.515625 -1.421875 17.65625 -0.515625 \nQ 12.796875 0.390625 7.625 2.203125 \nL 7.625 11.71875 \nQ 11.71875 9.328125 16.59375 8.109375 \nQ 21.484375 6.890625 26.8125 6.890625 \nQ 36.078125 6.890625 40.9375 10.546875 \nQ 45.796875 14.203125 45.796875 21.1875 \nQ 45.796875 27.640625 41.28125 31.265625 \nQ 36.765625 34.90625 28.71875 34.90625 \nL 20.21875 34.90625 \nL 20.21875 43.015625 \nL 29.109375 43.015625 \nQ 36.375 43.015625 40.234375 45.921875 \nQ 44.09375 48.828125 44.09375 54.296875 \nQ 44.09375 59.90625 40.109375 62.90625 \nQ 36.140625 65.921875 28.71875 65.921875 \nQ 24.65625 65.921875 20.015625 65.03125 \nQ 15.375 64.15625 9.8125 62.3125 \nL 9.8125 71.09375 \nQ 15.4375 72.65625 20.34375 73.4375 \nQ 25.25 74.21875 29.59375 74.21875 \nQ 40.828125 74.21875 47.359375 69.109375 \nQ 53.90625 64.015625 53.90625 55.328125 \nQ 53.90625 49.265625 50.4375 45.09375 \nQ 46.96875 40.921875 40.578125 39.3125 \nz\n\" id=\"DejaVuSans-51\"/>\n       </defs>\n       <use xlink:href=\"#DejaVuSans-48\"/>\n       <use x=\"63.623047\" xlink:href=\"#DejaVuSans-46\"/>\n       <use x=\"95.410156\" xlink:href=\"#DejaVuSans-49\"/>\n       <use x=\"159.033203\" xlink:href=\"#DejaVuSans-51\"/>\n       <use x=\"222.65625\" xlink:href=\"#DejaVuSans-48\"/>\n      </g>\n     </g>\n    </g>\n    <g id=\"ytick_4\">\n     <g id=\"line2d_13\">\n      <g>\n       <use style=\"stroke:#000000;stroke-width:0.8;\" x=\"56.50625\" xlink:href=\"#me45bfc1ca3\" y=\"132.501861\"/>\n      </g>\n     </g>\n     <g id=\"text_14\">\n      <!-- 0.135 -->\n      <g transform=\"translate(20.878125 136.301079)scale(0.1 -0.1)\">\n       <use xlink:href=\"#DejaVuSans-48\"/>\n       <use x=\"63.623047\" xlink:href=\"#DejaVuSans-46\"/>\n       <use x=\"95.410156\" xlink:href=\"#DejaVuSans-49\"/>\n       <use x=\"159.033203\" xlink:href=\"#DejaVuSans-51\"/>\n       <use x=\"222.65625\" xlink:href=\"#DejaVuSans-53\"/>\n      </g>\n     </g>\n    </g>\n    <g id=\"ytick_5\">\n     <g id=\"line2d_14\">\n      <g>\n       <use style=\"stroke:#000000;stroke-width:0.8;\" x=\"56.50625\" xlink:href=\"#me45bfc1ca3\" y=\"108.201332\"/>\n      </g>\n     </g>\n     <g id=\"text_15\">\n      <!-- 0.140 -->\n      <g transform=\"translate(20.878125 112.000551)scale(0.1 -0.1)\">\n       <defs>\n        <path d=\"M 37.796875 64.3125 \nL 12.890625 25.390625 \nL 37.796875 25.390625 \nz\nM 35.203125 72.90625 \nL 47.609375 72.90625 \nL 47.609375 25.390625 \nL 58.015625 25.390625 \nL 58.015625 17.1875 \nL 47.609375 17.1875 \nL 47.609375 0 \nL 37.796875 0 \nL 37.796875 17.1875 \nL 4.890625 17.1875 \nL 4.890625 26.703125 \nz\n\" id=\"DejaVuSans-52\"/>\n       </defs>\n       <use xlink:href=\"#DejaVuSans-48\"/>\n       <use x=\"63.623047\" xlink:href=\"#DejaVuSans-46\"/>\n       <use x=\"95.410156\" xlink:href=\"#DejaVuSans-49\"/>\n       <use x=\"159.033203\" xlink:href=\"#DejaVuSans-52\"/>\n       <use x=\"222.65625\" xlink:href=\"#DejaVuSans-48\"/>\n      </g>\n     </g>\n    </g>\n    <g id=\"ytick_6\">\n     <g id=\"line2d_15\">\n      <g>\n       <use style=\"stroke:#000000;stroke-width:0.8;\" x=\"56.50625\" xlink:href=\"#me45bfc1ca3\" y=\"83.900804\"/>\n      </g>\n     </g>\n     <g id=\"text_16\">\n      <!-- 0.145 -->\n      <g transform=\"translate(20.878125 87.700023)scale(0.1 -0.1)\">\n       <use xlink:href=\"#DejaVuSans-48\"/>\n       <use x=\"63.623047\" xlink:href=\"#DejaVuSans-46\"/>\n       <use x=\"95.410156\" xlink:href=\"#DejaVuSans-49\"/>\n       <use x=\"159.033203\" xlink:href=\"#DejaVuSans-52\"/>\n       <use x=\"222.65625\" xlink:href=\"#DejaVuSans-53\"/>\n      </g>\n     </g>\n    </g>\n    <g id=\"ytick_7\">\n     <g id=\"line2d_16\">\n      <g>\n       <use style=\"stroke:#000000;stroke-width:0.8;\" x=\"56.50625\" xlink:href=\"#me45bfc1ca3\" y=\"59.600276\"/>\n      </g>\n     </g>\n     <g id=\"text_17\">\n      <!-- 0.150 -->\n      <g transform=\"translate(20.878125 63.399494)scale(0.1 -0.1)\">\n       <use xlink:href=\"#DejaVuSans-48\"/>\n       <use x=\"63.623047\" xlink:href=\"#DejaVuSans-46\"/>\n       <use x=\"95.410156\" xlink:href=\"#DejaVuSans-49\"/>\n       <use x=\"159.033203\" xlink:href=\"#DejaVuSans-53\"/>\n       <use x=\"222.65625\" xlink:href=\"#DejaVuSans-48\"/>\n      </g>\n     </g>\n    </g>\n    <g id=\"ytick_8\">\n     <g id=\"line2d_17\">\n      <g>\n       <use style=\"stroke:#000000;stroke-width:0.8;\" x=\"56.50625\" xlink:href=\"#me45bfc1ca3\" y=\"35.299747\"/>\n      </g>\n     </g>\n     <g id=\"text_18\">\n      <!-- 0.155 -->\n      <g transform=\"translate(20.878125 39.098966)scale(0.1 -0.1)\">\n       <use xlink:href=\"#DejaVuSans-48\"/>\n       <use x=\"63.623047\" xlink:href=\"#DejaVuSans-46\"/>\n       <use x=\"95.410156\" xlink:href=\"#DejaVuSans-49\"/>\n       <use x=\"159.033203\" xlink:href=\"#DejaVuSans-53\"/>\n       <use x=\"222.65625\" xlink:href=\"#DejaVuSans-53\"/>\n      </g>\n     </g>\n    </g>\n    <g id=\"ytick_9\">\n     <g id=\"line2d_18\">\n      <g>\n       <use style=\"stroke:#000000;stroke-width:0.8;\" x=\"56.50625\" xlink:href=\"#me45bfc1ca3\" y=\"10.999219\"/>\n      </g>\n     </g>\n     <g id=\"text_19\">\n      <!-- 0.160 -->\n      <g transform=\"translate(20.878125 14.798438)scale(0.1 -0.1)\">\n       <defs>\n        <path d=\"M 33.015625 40.375 \nQ 26.375 40.375 22.484375 35.828125 \nQ 18.609375 31.296875 18.609375 23.390625 \nQ 18.609375 15.53125 22.484375 10.953125 \nQ 26.375 6.390625 33.015625 6.390625 \nQ 39.65625 6.390625 43.53125 10.953125 \nQ 47.40625 15.53125 47.40625 23.390625 \nQ 47.40625 31.296875 43.53125 35.828125 \nQ 39.65625 40.375 33.015625 40.375 \nz\nM 52.59375 71.296875 \nL 52.59375 62.3125 \nQ 48.875 64.0625 45.09375 64.984375 \nQ 41.3125 65.921875 37.59375 65.921875 \nQ 27.828125 65.921875 22.671875 59.328125 \nQ 17.53125 52.734375 16.796875 39.40625 \nQ 19.671875 43.65625 24.015625 45.921875 \nQ 28.375 48.1875 33.59375 48.1875 \nQ 44.578125 48.1875 50.953125 41.515625 \nQ 57.328125 34.859375 57.328125 23.390625 \nQ 57.328125 12.15625 50.6875 5.359375 \nQ 44.046875 -1.421875 33.015625 -1.421875 \nQ 20.359375 -1.421875 13.671875 8.265625 \nQ 6.984375 17.96875 6.984375 36.375 \nQ 6.984375 53.65625 15.1875 63.9375 \nQ 23.390625 74.21875 37.203125 74.21875 \nQ 40.921875 74.21875 44.703125 73.484375 \nQ 48.484375 72.75 52.59375 71.296875 \nz\n\" id=\"DejaVuSans-54\"/>\n       </defs>\n       <use xlink:href=\"#DejaVuSans-48\"/>\n       <use x=\"63.623047\" xlink:href=\"#DejaVuSans-46\"/>\n       <use x=\"95.410156\" xlink:href=\"#DejaVuSans-49\"/>\n       <use x=\"159.033203\" xlink:href=\"#DejaVuSans-54\"/>\n       <use x=\"222.65625\" xlink:href=\"#DejaVuSans-48\"/>\n      </g>\n     </g>\n    </g>\n    <g id=\"text_20\">\n     <!-- R2 -->\n     <g transform=\"translate(14.798438 126.263509)rotate(-90)scale(0.1 -0.1)\">\n      <use xlink:href=\"#DejaVuSans-82\"/>\n      <use x=\"69.482422\" xlink:href=\"#DejaVuSans-50\"/>\n     </g>\n    </g>\n   </g>\n   <g id=\"line2d_19\">\n    <path clip-path=\"url(#pa3147dab11)\" d=\"M 71.724432 20.874725 \nL 105.542614 20.874275 \nL 139.360795 20.873826 \nL 173.178977 20.873377 \nL 206.997159 20.872929 \nL 240.815341 20.87248 \nL 274.633523 20.872032 \nL 308.451705 20.871584 \nL 342.269886 20.871136 \nL 376.088068 20.870689 \n\" style=\"fill:none;stroke:#1f77b4;stroke-linecap:square;stroke-width:1.5;\"/>\n   </g>\n   <g id=\"line2d_20\">\n    <path clip-path=\"url(#pa3147dab11)\" d=\"M 71.724432 20.771677 \nL 105.542614 28.112183 \nL 139.360795 43.708977 \nL 173.178977 64.554369 \nL 206.997159 90.367686 \nL 240.815341 115.93183 \nL 274.633523 138.448892 \nL 308.451705 163.628768 \nL 342.269886 191.79146 \nL 376.088068 218.444404 \n\" style=\"fill:none;stroke:#ff7f0e;stroke-dasharray:5.55,2.4;stroke-dashoffset:0;stroke-width:1.5;\"/>\n   </g>\n   <g id=\"line2d_21\">\n    <path clip-path=\"url(#pa3147dab11)\" d=\"M 56.50625 20.874745 \nL 391.30625 20.874745 \n\" style=\"fill:none;stroke:#a9a9a9;stroke-dasharray:1.5,2.475;stroke-dashoffset:0;stroke-width:1.5;\"/>\n   </g>\n   <g id=\"patch_3\">\n    <path d=\"M 56.50625 228.32804 \nL 56.50625 10.88804 \n\" style=\"fill:none;stroke:#000000;stroke-linecap:square;stroke-linejoin:miter;stroke-width:0.8;\"/>\n   </g>\n   <g id=\"patch_4\">\n    <path d=\"M 56.50625 228.32804 \nL 391.30625 228.32804 \n\" style=\"fill:none;stroke:#000000;stroke-linecap:square;stroke-linejoin:miter;stroke-width:0.8;\"/>\n   </g>\n   <g id=\"legend_1\">\n    <g id=\"patch_5\">\n     <path d=\"M 63.50625 223.32804 \nL 124.082812 223.32804 \nQ 126.082812 223.32804 126.082812 221.32804 \nL 126.082812 178.293665 \nQ 126.082812 176.293665 124.082812 176.293665 \nL 63.50625 176.293665 \nQ 61.50625 176.293665 61.50625 178.293665 \nL 61.50625 221.32804 \nQ 61.50625 223.32804 63.50625 223.32804 \nz\n\" style=\"fill:#ffffff;opacity:0.8;stroke:#cccccc;stroke-linejoin:miter;\"/>\n    </g>\n    <g id=\"line2d_22\">\n     <path d=\"M 65.50625 184.392103 \nL 85.50625 184.392103 \n\" style=\"fill:none;stroke:#1f77b4;stroke-linecap:square;stroke-width:1.5;\"/>\n    </g>\n    <g id=\"line2d_23\"/>\n    <g id=\"text_21\">\n     <!-- Ridge -->\n     <g transform=\"translate(93.50625 187.892103)scale(0.1 -0.1)\">\n      <use xlink:href=\"#DejaVuSans-82\"/>\n      <use x=\"69.482422\" xlink:href=\"#DejaVuSans-105\"/>\n      <use x=\"97.265625\" xlink:href=\"#DejaVuSans-100\"/>\n      <use x=\"160.742188\" xlink:href=\"#DejaVuSans-103\"/>\n      <use x=\"224.21875\" xlink:href=\"#DejaVuSans-101\"/>\n     </g>\n    </g>\n    <g id=\"line2d_24\">\n     <path d=\"M 65.50625 199.070228 \nL 85.50625 199.070228 \n\" style=\"fill:none;stroke:#ff7f0e;stroke-dasharray:5.55,2.4;stroke-dashoffset:0;stroke-width:1.5;\"/>\n    </g>\n    <g id=\"line2d_25\"/>\n    <g id=\"text_22\">\n     <!-- Lasso -->\n     <g transform=\"translate(93.50625 202.570228)scale(0.1 -0.1)\">\n      <use xlink:href=\"#DejaVuSans-76\"/>\n      <use x=\"55.712891\" xlink:href=\"#DejaVuSans-97\"/>\n      <use x=\"116.992188\" xlink:href=\"#DejaVuSans-115\"/>\n      <use x=\"169.091797\" xlink:href=\"#DejaVuSans-115\"/>\n      <use x=\"221.191406\" xlink:href=\"#DejaVuSans-111\"/>\n     </g>\n    </g>\n    <g id=\"line2d_26\">\n     <path d=\"M 65.50625 213.748353 \nL 85.50625 213.748353 \n\" style=\"fill:none;stroke:#a9a9a9;stroke-dasharray:1.5,2.475;stroke-dashoffset:0;stroke-width:1.5;\"/>\n    </g>\n    <g id=\"line2d_27\"/>\n    <g id=\"text_23\">\n     <!-- OLS -->\n     <g transform=\"translate(93.50625 217.248353)scale(0.1 -0.1)\">\n      <defs>\n       <path d=\"M 39.40625 66.21875 \nQ 28.65625 66.21875 22.328125 58.203125 \nQ 16.015625 50.203125 16.015625 36.375 \nQ 16.015625 22.609375 22.328125 14.59375 \nQ 28.65625 6.59375 39.40625 6.59375 \nQ 50.140625 6.59375 56.421875 14.59375 \nQ 62.703125 22.609375 62.703125 36.375 \nQ 62.703125 50.203125 56.421875 58.203125 \nQ 50.140625 66.21875 39.40625 66.21875 \nz\nM 39.40625 74.21875 \nQ 54.734375 74.21875 63.90625 63.9375 \nQ 73.09375 53.65625 73.09375 36.375 \nQ 73.09375 19.140625 63.90625 8.859375 \nQ 54.734375 -1.421875 39.40625 -1.421875 \nQ 24.03125 -1.421875 14.8125 8.828125 \nQ 5.609375 19.09375 5.609375 36.375 \nQ 5.609375 53.65625 14.8125 63.9375 \nQ 24.03125 74.21875 39.40625 74.21875 \nz\n\" id=\"DejaVuSans-79\"/>\n       <path d=\"M 53.515625 70.515625 \nL 53.515625 60.890625 \nQ 47.90625 63.578125 42.921875 64.890625 \nQ 37.9375 66.21875 33.296875 66.21875 \nQ 25.25 66.21875 20.875 63.09375 \nQ 16.5 59.96875 16.5 54.203125 \nQ 16.5 49.359375 19.40625 46.890625 \nQ 22.3125 44.4375 30.421875 42.921875 \nL 36.375 41.703125 \nQ 47.40625 39.59375 52.65625 34.296875 \nQ 57.90625 29 57.90625 20.125 \nQ 57.90625 9.515625 50.796875 4.046875 \nQ 43.703125 -1.421875 29.984375 -1.421875 \nQ 24.8125 -1.421875 18.96875 -0.25 \nQ 13.140625 0.921875 6.890625 3.21875 \nL 6.890625 13.375 \nQ 12.890625 10.015625 18.65625 8.296875 \nQ 24.421875 6.59375 29.984375 6.59375 \nQ 38.421875 6.59375 43.015625 9.90625 \nQ 47.609375 13.234375 47.609375 19.390625 \nQ 47.609375 24.75 44.3125 27.78125 \nQ 41.015625 30.8125 33.5 32.328125 \nL 27.484375 33.5 \nQ 16.453125 35.6875 11.515625 40.375 \nQ 6.59375 45.0625 6.59375 53.421875 \nQ 6.59375 63.09375 13.40625 68.65625 \nQ 20.21875 74.21875 32.171875 74.21875 \nQ 37.3125 74.21875 42.625 73.28125 \nQ 47.953125 72.359375 53.515625 70.515625 \nz\n\" id=\"DejaVuSans-83\"/>\n      </defs>\n      <use xlink:href=\"#DejaVuSans-79\"/>\n      <use x=\"78.710938\" xlink:href=\"#DejaVuSans-76\"/>\n      <use x=\"134.423828\" xlink:href=\"#DejaVuSans-83\"/>\n     </g>\n    </g>\n   </g>\n  </g>\n </g>\n <defs>\n  <clipPath id=\"pa3147dab11\">\n   <rect height=\"217.44\" width=\"334.8\" x=\"56.50625\" y=\"10.88804\"/>\n  </clipPath>\n </defs>\n</svg>\n",
      "image/png": "[encoded data removed]"
     },
     "metadata": {
      "needs_background": "light"
     }
    }
   ],
   "source": [
    "#_02\n",
    "\n",
    "# Create array of alpha values \n",
    "alphas = np.linspace(0.01, 2, 10)\n",
    "\n",
    "ridge_r2s = []\n",
    "lasso_r2s = []\n",
    "\n",
    "# Iterate over alpha values, run cross-validated ridge and lasso regressions for each alpha, and save *average* of scores\n",
    "for alpha in alphas:\n",
    "    new_ridge = Ridge(alpha)\n",
    "    ridge_r2s.append(cross_val_score(new_ridge, X_train, y_train, cv=shuffsplit).mean())\n",
    "    \n",
    "    new_lasso = Lasso(alpha)\n",
    "    lasso_r2s.append(cross_val_score(new_lasso,X_train, y_train, cv=shuffsplit).mean())\n",
    "\n",
    "# Combine scores into dataframe for easy plotting\n",
    "r2s = pd.DataFrame(\n",
    "    zip(alphas, ridge_r2s, lasso_r2s), \n",
    "    columns = [\"alpha\", \"ridge\", \"lasso\"])\n",
    "\n",
    "# Plot scores\n",
    "fig, ax = plt.subplots()\n",
    "sns.lineplot(x=\"alpha\", y=\"ridge\", data = r2s, label=\"Ridge\", linestyle='solid')\n",
    "sns.lineplot(x=\"alpha\", y=\"lasso\", data = r2s, label = \"Lasso\", linestyle='dashed')\n",
    "ax.axhline(olscv_score.mean(), label=\"OLS\", linestyle='dotted', color=\"darkgray\")\n",
    "ax.set(xlabel='alpha values for Ridge and Lasso Regressions', ylabel='R2')\n",
    "sns.despine()\n",
    "ax.legend()\n",
    "plt.show()\n",
    "\n",
    "# Submit a *BOOLEAN VALUE* indicating whether or not you think the Q1 model was overfitting.\n",
    "is_q1_overfitting = False \n",
    "\n",
    "# DO NOT ALTER ANYTHING BELOW THIS LINE \n",
    "_02 = is_q1_overfitting"
   ]
  },
  {
   "cell_type": "markdown",
   "metadata": {},
   "source": [
    "## Question 3:\n",
    "<div class=\"alert alert-block alert-info\">  \n",
    "Regardless of how Question 2 turned out, it's pretty clear that a garden-variety OLS model isn't going to be the best choice for predicting the survey respondents' years of birth. Let's see if we can do better with a Logistic Regression instead. To accomplish this, we're going to categorize everyone in the dataset as either being born after (1) or before (0) 1970 (those born in 1970 also count as 'before'). \n",
    "</div>\n",
    "<div class=\"alert alert-block alert-success\">\n",
    "Create a vector containing an outcome variable indicating whether or not each respondent was born after (1), before (0), or during (0) the year 1970. Using this new outcome vector and a remade feature matrix (again, using all of the columns from `x_columns`), create a shuffled train-test split and a ShuffleSplit with 5 splits and a test size of 0.2. Both the train-test split and ShuffleSplit should use a random state of 42. <br>\n",
    "    Once all of this is done, run a cross-validated Logistic Regression (with <code>max_iter=1000</code>, which will help it converge) using your new training data and <code>ShuffleSplit</code>.\n",
    "</div>"
   ]
  },
  {
   "cell_type": "code",
   "execution_count": 62,
   "metadata": {},
   "outputs": [
    {
     "output_type": "stream",
     "name": "stdout",
     "text": [
      "[0.6569697  0.64565657 0.62545455 0.64727273 0.64686869]\nMean: 0.6444444444444445\n"
     ]
    }
   ],
   "source": [
    "#_03\n",
    "\n",
    "# Delete existing variables to prevent use of incorrect data \n",
    "try:\n",
    "    del X_train\n",
    "    del X_test\n",
    "    del y_train\n",
    "    del y_test\n",
    "    del X\n",
    "    del y\n",
    "except:\n",
    "    pass\n",
    "\n",
    "\n",
    "\n",
    "# Create a feature matrix using all of the column names in `x_columns`\n",
    "X = df[x_columns] \n",
    "\n",
    "# Create the outcome variable\n",
    "y = np.where(df['v226'] > 1970,1,0)\n",
    "\n",
    "# Perform a train-test split\n",
    "X_train, X_test, y_train, y_test = train_test_split(X, y, shuffle=True, random_state=42)\n",
    "\n",
    "# Create an instance of the shufflesplit class\n",
    "shuffsplit = ShuffleSplit(n_splits=5, test_size=0.2, random_state=42)\n",
    "\n",
    "\n",
    "# Retreieve the scores from a cross-validated logistic regression\n",
    "log_reg_scores = cross_val_score(\n",
    "    LogisticRegression(max_iter=1000), \n",
    "    X_train, \n",
    "    y_train, \n",
    "    cv=shuffsplit)\n",
    "\n",
    "print(log_reg_scores)\n",
    "print(f\"Mean: {log_reg_scores.mean()}\")\n",
    "\n",
    "# DO NOT ALTER ANYTHING BELOW THIS LINE \n",
    "_03 =  round(log_reg_scores.mean(), 2) "
   ]
  },
  {
   "cell_type": "markdown",
   "metadata": {},
   "source": [
    "## Question 4:\n",
    "<div class=\"alert alert-block alert-success\">\n",
    "Find the three most impactful predictors from your logistic regression, as measured by the magnitude of the coefficient. Use the comments in the `x_columns` variable definition (at the start of the assignment) to figure out what each of these variables indicate, what their scales are, and what each end of their respective scales imply. In 3 sentences (one sentence per variable), describe what these three variables tell us -- in general -- about people who are more likely to have been born after 1970. \n",
    "</div>"
   ]
  },
  {
   "cell_type": "code",
   "execution_count": 63,
   "metadata": {},
   "outputs": [
    {
     "output_type": "stream",
     "name": "stdout",
     "text": [
      "[-1.61022707] [[ 0.01618635  0.02544146  0.00332991  0.14287511 -0.01874159  0.03203935\n  -0.0592861   0.00737172 -0.02178793 -0.02456733  0.12866259  0.10147299\n  -0.07405794  0.02218695 -0.01422646  0.01181022  0.3627445   0.02600305\n   0.04017589 -0.04163818  0.01560568 -0.13221392  0.04239296  0.09724605\n   0.00582415 -0.05679651]]\n                   0\nInterecept -1.610227\nv54         0.016186\nv149        0.025441\nv150        0.003330\nv151        0.142875\nv152       -0.018742\nv153        0.032039\nv154       -0.059286\nv155        0.007372\nv156       -0.021788\nv157       -0.024567\nv158        0.128663\nv159        0.101473\nv160       -0.074058\nv161        0.022187\nv162       -0.014226\nv163        0.011810\nv97         0.362745\nv121        0.026003\nv126        0.040176\nv142       -0.041638\nv143        0.015606\nv145       -0.132214\nv170        0.042393\nv184        0.097246\nv185        0.005824\nv198       -0.056797\n"
     ]
    }
   ],
   "source": [
    "#_04\n",
    "\n",
    "# Fit a logistic regression on all of the training data\n",
    "log_reg = LogisticRegression(max_iter=1000, random_state=42)\n",
    "log_reg.fit(X_train, y_train)\n",
    "\n",
    "# Find the three coefficients in the model with the highest magnitude (go about doing so however you like)\n",
    "#print(log_reg.coef_)\n",
    "highest = pd.DataFrame(\n",
    "        [*log_reg.intercept_,\n",
    "        *np.ravel(log_reg.coef_)],\n",
    "        index = ['Interecept', *X_test.columns]\n",
    ")\n",
    "print(log_reg.intercept_, log_reg.coef_)\n",
    "print(highest)\n",
    "\n",
    "# Write your answers in the provided docstring:\n",
    "_04 = \"\"\"\n",
    "People who were interested in politics are less likely to be born after 1970 because it had the highest magnitude and a postive coeffcient. \n",
    "\n",
    "People who are born after 1970 are less inclined to justify the use of soft drugs, because it has the second highest magnitude and has a negative coeffcient.\n",
    "\n",
    "People who are born after 1970 are more likely to think that having a strong political leader is good, which had the third highest magnitude and a negative coeffcient. \n",
    "\n",
    "\"\"\" \n",
    "\n"
   ]
  },
  {
   "cell_type": "markdown",
   "metadata": {},
   "source": [
    "# <font color=\"#49699E\">PART B | CHAPTER 22</font>\n",
    "<a id=\"SECBEP\"></a>"
   ]
  },
  {
   "cell_type": "markdown",
   "metadata": {},
   "source": [
    "## Question 5:\n",
    "<div class=\"alert alert-block alert-info\">  \n",
    "Now that we've spent some time classifying people by year of birth, it's time to move onto a much trickier classification task! For the entirety of this section, we're going to see how well each of the various classification methods we introduced in Chapter 22 can classify EVS respondents by their country of origin. Since there are 33 countries in the dataset, and the difficulty of classification scales with the number of labels, we shouldn't expect much in the way of miraculous performances here. Even an accuracy score of .3 is notable, as it is about 10 times greater than the accuracy score we would expect if our model were guessing purely at random. <br><br>We're going to start with a basic decision tree and -- assuming that it isn't going to do a great job -- immediately move onto a regularized decision tree. Feel free to tweak the regularization parameters on your regularized decision tree in whatever manner you like; your primary goal for this question is to produce a regularized tree that performs better that its unregularized counterpart, as judged by accuracy score. \n",
    "</div>\n",
    "<div class=\"alert alert-block alert-success\">\n",
    "Perform the following steps, in order:\n",
    "<ol>\n",
    "    <li> Create a feature matrix containing all of the columns in <code>x_columns</code> and a vector containing the outcome variable, <code>country</code>\n",
    "    <li> Perform a stratified, shuffled train-test split of the feature matrix and outcome vector random state of 1\n",
    "    <li> Create an instance of the <code>ShuffleSplit</code> class, with 5 splits, a test size of 0.1, and a random state of 1\n",
    "    <li> Using the <code>ShuffleSplit</code> instance, cross-validate a default decision tree on your training data \n",
    "    <li> Use regularization parameters to create a regularized decision tree that outperforms the basic decision tree based on cross-validated accuracy score (using the same  <code>ShuffleSplit</code> as before)\n",
    "</ol>\n",
    "</div>"
   ]
  },
  {
   "cell_type": "code",
   "execution_count": 64,
   "metadata": {},
   "outputs": [
    {
     "output_type": "stream",
     "name": "stdout",
     "text": [
      "[0.17124394 0.16801292 0.1631664  0.17447496 0.1914378 ]\n",
      "Mean: 0.17366720516962844\n",
      "[0.17124394 0.16801292 0.1631664  0.17447496 0.1914378 ]\n",
      "Mean: 0.20064620355411952\n"
     ]
    }
   ],
   "source": [
    "#_05\n",
    "\n",
    "# Delete existing variables to prevent use of incorrect data \n",
    "try:\n",
    "    del X_train\n",
    "    del X_test\n",
    "    del y_train\n",
    "    del y_test\n",
    "    del X\n",
    "    del y\n",
    "except:\n",
    "    pass\n",
    "\n",
    "\n",
    "# Create a feature matrix using all of the column names in `x_columns`\n",
    "X = df[x_columns] \n",
    "\n",
    "\n",
    "# Create the outcome variable\n",
    "y = np.array(df.country)\n",
    "\n",
    "# Perform a stratified train-test split\n",
    "X_train, X_test, y_train, y_test = train_test_split(\n",
    "    X, \n",
    "    y, \n",
    "    shuffle=True, \n",
    "    random_state=1,\n",
    "    stratify=y\n",
    ")\n",
    "\n",
    "# Create an instance of the shufflesplit class\n",
    "shuffsplit = ShuffleSplit(n_splits=5, test_size=0.1, random_state=1)\n",
    "\n",
    "# Create a decision tree classifier and get the cross-validated scores therefrom\n",
    "dtclass = DecisionTreeClassifier(random_state=42)\n",
    "dt_scores = cross_val_score(dtclass,X_train,y_train, cv=shuffsplit)\n",
    "\n",
    "print(dt_scores)\n",
    "print(f\"Mean: {dt_scores.mean()}\")\n",
    "\n",
    "\n",
    "# Create a regularized (or pruned) decision tree classifier and get the cross-validated scores therefrom\n",
    "dtclass_pruned = DecisionTreeClassifier(max_depth=10, min_samples_leaf=5, random_state=42)\n",
    "dt_pruned_scores = cross_val_score(dtclass_pruned, X_train, y_train, cv=shuffsplit)\n",
    "print(dt_scores)\n",
    "print(f\"Mean: {dt_pruned_scores.mean()}\")\n",
    "\n",
    "# DO NOT ALTER ANYTHING BELOW THIS LINE \n",
    "_05 = (dt_scores.mean() < dt_pruned_scores.mean()) "
   ]
  },
  {
   "cell_type": "markdown",
   "metadata": {},
   "source": [
    "## Question 6:\n",
    "<div class=\"alert alert-block alert-info\">  \n",
    "Let's now give the same treatment to two of the ensemble methods we learned about: Random Forest and Gradient Boosted Trees.\n",
    "</div>\n",
    "<div class=\"alert alert-block alert-success\">\n",
    "Run a cross-validated Random Forest Classifier with 100 estimators, 2 maximum features, and a random state of 42. Then, run a cross-validated Gradient Boosted Trees Classifier with 10 estimators and a random state of 42. Assess the accuracy scores from both cross-validations to determine whether the Gradient Boosted Trees Classifier outperformed the Random Forest Classifier. Submit your answer as a <b>BOOLEAN</b> value. If your answer is anything other than a boolean value, you will recieve no credit for this question. \n",
    "</div>"
   ]
  },
  {
   "cell_type": "code",
   "execution_count": 65,
   "metadata": {},
   "outputs": [
    {
     "output_type": "stream",
     "name": "stdout",
     "text": [
      "[0.35621971 0.36025848 0.34410339 0.33521809 0.36268174]\n",
      "Mean: 0.3516962843295638\n",
      "[0.2552504  0.27544426 0.27463651 0.25121163 0.25605816]\n",
      "Mean: 0.2625201938610663\n"
     ]
    }
   ],
   "source": [
    "#_06\n",
    "\n",
    "\n",
    "# Create a random forest classifier and get the cross-validated scores therefrom\n",
    "rforest = RandomForestClassifier(n_estimators=100,\n",
    "                                max_features=2,\n",
    "                                random_state=42)\n",
    "\n",
    "rforest_scores = cross_val_score(rforest, X_train,y_train, cv=shuffsplit)\n",
    "print(rforest_scores)\n",
    "print(f\"Mean: {rforest_scores.mean()}\")\n",
    "\n",
    "\n",
    "# Create a gradient boosted trees classifier and get the cross-validated scores therefrom\n",
    "gboost = GradientBoostingClassifier(n_estimators=10,\n",
    "                                random_state=42)\n",
    "\n",
    "gboost_scores = cross_val_score(gboost, X_train, y_train, cv=shuffsplit)\n",
    "print(gboost_scores)\n",
    "print(f\"Mean: {gboost_scores.mean()}\")\n",
    "\n",
    "# Submit a *BOOLEAN VALUE* indicating whether Gradient Boosted Trees Classifier outperformed the Random Forest Classifier\n",
    "did_gradient_outperform_rforest = False\n",
    "\n",
    "# DO NOT ALTER ANYTHING BELOW THIS LINE \n",
    "_06 = did_gradient_outperform_rforest"
   ]
  },
  {
   "cell_type": "markdown",
   "metadata": {},
   "source": [
    "## Question 7:\n",
    "<div class=\"alert alert-block alert-success\">\n",
    "Run a cross-validated K-Nearest Neighbour classifier, setting <code>K</code> to 20. Report the mean cross-validated accuracy score (this will be done automatically).\n",
    "</div>"
   ]
  },
  {
   "cell_type": "code",
   "execution_count": 66,
   "metadata": {},
   "outputs": [
    {
     "output_type": "stream",
     "name": "stdout",
     "text": [
      "[0.26655897 0.25363489 0.25686591 0.25928918 0.25767367]\nMean: 0.2588045234248788\n"
     ]
    }
   ],
   "source": [
    "#_07\n",
    "\n",
    "# Create a k-nearest-neighbour classifier and get the cross-validated scores therefrom\n",
    "knn_model = KNeighborsClassifier(n_neighbors=20)\n",
    "knn_scores = cross_val_score(knn_model, X_train, y_train, cv=shuffsplit)\n",
    "print(knn_scores)\n",
    "print(f\"Mean: {knn_scores.mean()}\")\n",
    "\n",
    "# DO NOT ALTER ANYTHING BELOW THIS LINE \n",
    "_07 = knn_scores.mean() "
   ]
  },
  {
   "cell_type": "markdown",
   "metadata": {},
   "source": [
    "## Question 8:\n",
    "<div class=\"alert alert-block alert-info\">  \n",
    "Throughout this section, we've used cross-validation to assess how our models have performed. This means that we have an as-of-yet untouched set of test data that we can use to make a final model selection. In this question, we're going to ask you to indicate which of the five classifiers we explored in this section achieved the highest cross-validated accuracy. Then, after fitting each classifier to the full training data and assessing their performance in light of the held-out test data, we'll ask you to report which of our candidate models achieves the highest accuracy. \n",
    "</div>\n",
    "<div class=\"alert alert-block alert-success\">\n",
    "Perform the following steps, in order:\n",
    "<ol>\n",
    "    <li> Submit a string containing the name of the model that achieved the highest cross-validated accuracy in this section\n",
    "    <li> Fit each of the five models on the entire training dataset\n",
    "    <li> Assess each of the fitted models' scores on the held-out test data\n",
    "    <li> Submit a string containing the name of the model that achieved the highest test accuracy in this section \n",
    "</ol>\n",
    "</div>"
   ]
  },
  {
   "cell_type": "code",
   "execution_count": 67,
   "metadata": {},
   "outputs": [
    {
     "output_type": "stream",
     "name": "stdout",
     "text": [
      "0.18351515151515152\n",
      "0.21139393939393938\n",
      "0.3713939393939394\n",
      "0.2824242424242424\n",
      "0.26666666666666666\n"
     ]
    }
   ],
   "source": [
    "#_08\n",
    "\n",
    "# Indicate which classifier achieved the highest cross-validated accuracy\n",
    "best_model_by_cv = \"Logistic Regression\"\n",
    "\n",
    "# Create list of all of the models\n",
    "part_b_models =[\n",
    "    dtclass,\n",
    "    dtclass_pruned,\n",
    "    rforest,\n",
    "    gboost,\n",
    "    knn_model]\n",
    "\n",
    "\n",
    "# Iterate over list of models, fit each one on the training data, and then assess score on the test data\n",
    "for model in part_b_models:\n",
    "    model.fit(X_train, y_train)\n",
    "    print(model.score(X_test, y_test))\n",
    "    \n",
    "# Indicate which classifier acheived the highest test accuracy \n",
    "best_model_by_test = \"Random Forest\"\n",
    "\n",
    "# DO NOT ALTER ANYTHING BELOW THIS LINE \n",
    "_08 = (best_model_by_cv.lower().split(\" \")[0], best_model_by_test.lower().split(\" \")[0])"
   ]
  },
  {
   "cell_type": "code",
   "execution_count": 68,
   "metadata": {},
   "outputs": [],
   "source": [
    "## FINALIZE ASSIGNMENT\n",
    "\n",
    "import pickle as pkl\n",
    "\n",
    "module = 11\n",
    "\n",
    "response_dict = {\n",
    "    \"student_id\": student_id,\n",
    "    \"grad_student\": \"EA_undergrad\",\n",
    "    \"module\": module,\n",
    "    \"responses\": [\n",
    "        _01,\n",
    "        _02,\n",
    "        _03,\n",
    "        _04,\n",
    "        _05,\n",
    "        _06,\n",
    "        _07,\n",
    "        _08,\n",
    "    ],\n",
    "    \"code_cells\": In\n",
    "}\n",
    "\n",
    "module_string = f\"module_{response_dict['module']}\"\n",
    "filename = f\"{module_string}__student_{student_id}.pkl\"\n",
    "\n",
    "with open(f\"./{filename}\", 'wb') as stream:\n",
    "    pkl.dump(response_dict, stream)"
   ]
  },
  {
   "cell_type": "code",
   "execution_count": null,
   "metadata": {},
   "outputs": [],
   "source": []
  }
 ],
 "metadata": {
  "kernelspec": {
   "name": "python3613jvsc74a57bd03693fff28dbaae431cb60b68a335d4f248258b2baa6fd7d27a05fa1c0ca827ad",
   "display_name": "Python 3.6.13 64-bit ('social_comp_sci': conda)"
  },
  "language_info": {
   "codemirror_mode": {
    "name": "ipython",
    "version": 3
   },
   "file_extension": ".py",
   "mimetype": "text/x-python",
   "name": "python",
   "nbconvert_exporter": "python",
   "pygments_lexer": "ipython3",
   "version": "3.6.13-final"
  }
 },
 "nbformat": 4,
 "nbformat_minor": 4
}